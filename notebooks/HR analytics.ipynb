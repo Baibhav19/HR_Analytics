{
 "cells": [
  {
   "cell_type": "code",
   "execution_count": 73,
   "metadata": {},
   "outputs": [],
   "source": [
    "import numpy as np\n",
    "import pandas as pd\n",
    "import seaborn as sns\n",
    "import matplotlib.pyplot as plt\n",
    "from sklearn.metrics import f1_score, confusion_matrix, classification_report\n",
    "from sklearn.impute import SimpleImputer\n",
    "from sklearn.ensemble import RandomForestClassifier\n",
    "from sklearn.metrics import accuracy_score,precision_recall_curve\n",
    "import category_encoders as ce\n",
    "from sklearn.compose import ColumnTransformer\n",
    "from sklearn.pipeline import Pipeline\n",
    "from sklearn.preprocessing import StandardScaler, MinMaxScaler\n",
    "from sklearn.model_selection import train_test_split, GridSearchCV, StratifiedKFold\n",
    "from imblearn.over_sampling import RandomOverSampler\n",
    "from imblearn.under_sampling import RandomUnderSampler\n",
    "from sklearn.decomposition import PCA\n",
    "from xgboost import XGBClassifier"
   ]
  },
  {
   "cell_type": "code",
   "execution_count": 4,
   "metadata": {},
   "outputs": [],
   "source": [
    "df = pd.read_csv('..\\\\data\\\\processed\\\\train_HR_Analytics.csv')"
   ]
  },
  {
   "cell_type": "code",
   "execution_count": 5,
   "metadata": {},
   "outputs": [
    {
     "name": "stdout",
     "output_type": "stream",
     "text": [
      "<class 'pandas.core.frame.DataFrame'>\n",
      "RangeIndex: 43846 entries, 0 to 43845\n",
      "Data columns (total 14 columns):\n",
      " #   Column                Non-Null Count  Dtype  \n",
      "---  ------                --------------  -----  \n",
      " 0   employee_id           43846 non-null  int64  \n",
      " 1   department            43846 non-null  object \n",
      " 2   region                43846 non-null  object \n",
      " 3   education             41897 non-null  object \n",
      " 4   gender                43846 non-null  object \n",
      " 5   recruitment_channel   43846 non-null  object \n",
      " 6   no_of_trainings       43846 non-null  int64  \n",
      " 7   age                   43846 non-null  int64  \n",
      " 8   previous_year_rating  40543 non-null  float64\n",
      " 9   length_of_service     43846 non-null  int64  \n",
      " 10  KPIs_met >80%         43846 non-null  int64  \n",
      " 11  awards_won?           43846 non-null  int64  \n",
      " 12  avg_training_score    43846 non-null  int64  \n",
      " 13  is_promoted           43846 non-null  int64  \n",
      "dtypes: float64(1), int64(8), object(5)\n",
      "memory usage: 4.7+ MB\n"
     ]
    }
   ],
   "source": [
    "df.info()"
   ]
  },
  {
   "cell_type": "code",
   "execution_count": 6,
   "metadata": {},
   "outputs": [
    {
     "data": {
      "text/html": [
       "<div>\n",
       "<style scoped>\n",
       "    .dataframe tbody tr th:only-of-type {\n",
       "        vertical-align: middle;\n",
       "    }\n",
       "\n",
       "    .dataframe tbody tr th {\n",
       "        vertical-align: top;\n",
       "    }\n",
       "\n",
       "    .dataframe thead th {\n",
       "        text-align: right;\n",
       "    }\n",
       "</style>\n",
       "<table border=\"1\" class=\"dataframe\">\n",
       "  <thead>\n",
       "    <tr style=\"text-align: right;\">\n",
       "      <th></th>\n",
       "      <th>employee_id</th>\n",
       "      <th>department</th>\n",
       "      <th>region</th>\n",
       "      <th>education</th>\n",
       "      <th>gender</th>\n",
       "      <th>recruitment_channel</th>\n",
       "      <th>no_of_trainings</th>\n",
       "      <th>age</th>\n",
       "      <th>previous_year_rating</th>\n",
       "      <th>length_of_service</th>\n",
       "      <th>KPIs_met &gt;80%</th>\n",
       "      <th>awards_won?</th>\n",
       "      <th>avg_training_score</th>\n",
       "      <th>is_promoted</th>\n",
       "    </tr>\n",
       "  </thead>\n",
       "  <tbody>\n",
       "    <tr>\n",
       "      <th>0</th>\n",
       "      <td>43253</td>\n",
       "      <td>Sales &amp; Marketing</td>\n",
       "      <td>region_19</td>\n",
       "      <td>Bachelor's</td>\n",
       "      <td>m</td>\n",
       "      <td>other</td>\n",
       "      <td>1</td>\n",
       "      <td>31</td>\n",
       "      <td>5.0</td>\n",
       "      <td>5</td>\n",
       "      <td>1</td>\n",
       "      <td>0</td>\n",
       "      <td>48</td>\n",
       "      <td>0</td>\n",
       "    </tr>\n",
       "    <tr>\n",
       "      <th>1</th>\n",
       "      <td>67983</td>\n",
       "      <td>Technology</td>\n",
       "      <td>region_13</td>\n",
       "      <td>Master's &amp; above</td>\n",
       "      <td>m</td>\n",
       "      <td>sourcing</td>\n",
       "      <td>1</td>\n",
       "      <td>34</td>\n",
       "      <td>1.0</td>\n",
       "      <td>4</td>\n",
       "      <td>0</td>\n",
       "      <td>0</td>\n",
       "      <td>78</td>\n",
       "      <td>0</td>\n",
       "    </tr>\n",
       "    <tr>\n",
       "      <th>2</th>\n",
       "      <td>17959</td>\n",
       "      <td>Technology</td>\n",
       "      <td>region_22</td>\n",
       "      <td>Bachelor's</td>\n",
       "      <td>m</td>\n",
       "      <td>other</td>\n",
       "      <td>3</td>\n",
       "      <td>29</td>\n",
       "      <td>4.0</td>\n",
       "      <td>4</td>\n",
       "      <td>1</td>\n",
       "      <td>0</td>\n",
       "      <td>77</td>\n",
       "      <td>0</td>\n",
       "    </tr>\n",
       "    <tr>\n",
       "      <th>3</th>\n",
       "      <td>50522</td>\n",
       "      <td>Sales &amp; Marketing</td>\n",
       "      <td>region_2</td>\n",
       "      <td>Master's &amp; above</td>\n",
       "      <td>m</td>\n",
       "      <td>other</td>\n",
       "      <td>1</td>\n",
       "      <td>54</td>\n",
       "      <td>4.0</td>\n",
       "      <td>15</td>\n",
       "      <td>1</td>\n",
       "      <td>0</td>\n",
       "      <td>47</td>\n",
       "      <td>1</td>\n",
       "    </tr>\n",
       "    <tr>\n",
       "      <th>4</th>\n",
       "      <td>62721</td>\n",
       "      <td>R&amp;D</td>\n",
       "      <td>region_7</td>\n",
       "      <td>Bachelor's</td>\n",
       "      <td>m</td>\n",
       "      <td>sourcing</td>\n",
       "      <td>1</td>\n",
       "      <td>31</td>\n",
       "      <td>5.0</td>\n",
       "      <td>6</td>\n",
       "      <td>0</td>\n",
       "      <td>0</td>\n",
       "      <td>86</td>\n",
       "      <td>0</td>\n",
       "    </tr>\n",
       "  </tbody>\n",
       "</table>\n",
       "</div>"
      ],
      "text/plain": [
       "   employee_id         department     region         education gender  \\\n",
       "0        43253  Sales & Marketing  region_19        Bachelor's      m   \n",
       "1        67983         Technology  region_13  Master's & above      m   \n",
       "2        17959         Technology  region_22        Bachelor's      m   \n",
       "3        50522  Sales & Marketing   region_2  Master's & above      m   \n",
       "4        62721                R&D   region_7        Bachelor's      m   \n",
       "\n",
       "  recruitment_channel  no_of_trainings  age  previous_year_rating  \\\n",
       "0               other                1   31                   5.0   \n",
       "1            sourcing                1   34                   1.0   \n",
       "2               other                3   29                   4.0   \n",
       "3               other                1   54                   4.0   \n",
       "4            sourcing                1   31                   5.0   \n",
       "\n",
       "   length_of_service  KPIs_met >80%  awards_won?  avg_training_score  \\\n",
       "0                  5              1            0                  48   \n",
       "1                  4              0            0                  78   \n",
       "2                  4              1            0                  77   \n",
       "3                 15              1            0                  47   \n",
       "4                  6              0            0                  86   \n",
       "\n",
       "   is_promoted  \n",
       "0            0  \n",
       "1            0  \n",
       "2            0  \n",
       "3            1  \n",
       "4            0  "
      ]
     },
     "execution_count": 6,
     "metadata": {},
     "output_type": "execute_result"
    }
   ],
   "source": [
    "df.head()"
   ]
  },
  {
   "cell_type": "code",
   "execution_count": 7,
   "metadata": {},
   "outputs": [
    {
     "data": {
      "text/plain": [
       "0    40086\n",
       "1     3760\n",
       "Name: is_promoted, dtype: int64"
      ]
     },
     "execution_count": 7,
     "metadata": {},
     "output_type": "execute_result"
    }
   ],
   "source": [
    "df['is_promoted'].value_counts()"
   ]
  },
  {
   "cell_type": "markdown",
   "metadata": {},
   "source": [
    "### We can see that dataset is imbalanced. Only 8.5% data contains promoted class as true."
   ]
  },
  {
   "cell_type": "code",
   "execution_count": 21,
   "metadata": {},
   "outputs": [
    {
     "data": {
      "text/plain": [
       "8.517004816815064"
      ]
     },
     "execution_count": 21,
     "metadata": {},
     "output_type": "execute_result"
    }
   ],
   "source": [
    "4668/(50140 + 4668) * 100"
   ]
  },
  {
   "cell_type": "markdown",
   "metadata": {},
   "source": [
    "### check for null values"
   ]
  },
  {
   "cell_type": "code",
   "execution_count": 9,
   "metadata": {},
   "outputs": [
    {
     "data": {
      "text/plain": [
       "employee_id                0\n",
       "department                 0\n",
       "region                     0\n",
       "education               1949\n",
       "gender                     0\n",
       "recruitment_channel        0\n",
       "no_of_trainings            0\n",
       "age                        0\n",
       "previous_year_rating    3303\n",
       "length_of_service          0\n",
       "KPIs_met >80%              0\n",
       "awards_won?                0\n",
       "avg_training_score         0\n",
       "is_promoted                0\n",
       "dtype: int64"
      ]
     },
     "execution_count": 9,
     "metadata": {},
     "output_type": "execute_result"
    }
   ],
   "source": [
    "null_series = df.isnull().sum()\n",
    "df.isnull().sum()"
   ]
  },
  {
   "cell_type": "code",
   "execution_count": 10,
   "metadata": {},
   "outputs": [
    {
     "data": {
      "text/plain": [
       "Index(['education', 'previous_year_rating'], dtype='object')"
      ]
     },
     "execution_count": 10,
     "metadata": {},
     "output_type": "execute_result"
    }
   ],
   "source": [
    "\n",
    "null_cols = null_series[null_series > 0].index\n",
    "null_cols"
   ]
  },
  {
   "cell_type": "code",
   "execution_count": null,
   "metadata": {},
   "outputs": [],
   "source": []
  },
  {
   "cell_type": "code",
   "execution_count": 11,
   "metadata": {},
   "outputs": [
    {
     "data": {
      "text/plain": [
       "Bachelor's          29347\n",
       "Master's & above    11910\n",
       "Below Secondary       640\n",
       "Name: education, dtype: int64"
      ]
     },
     "execution_count": 11,
     "metadata": {},
     "output_type": "execute_result"
    }
   ],
   "source": [
    "df['education'].value_counts()"
   ]
  },
  {
   "cell_type": "code",
   "execution_count": 12,
   "metadata": {},
   "outputs": [
    {
     "data": {
      "text/plain": [
       "3.0    14933\n",
       "5.0     9391\n",
       "4.0     7870\n",
       "1.0     4991\n",
       "2.0     3358\n",
       "Name: previous_year_rating, dtype: int64"
      ]
     },
     "execution_count": 12,
     "metadata": {},
     "output_type": "execute_result"
    }
   ],
   "source": [
    "df['previous_year_rating'].value_counts()"
   ]
  },
  {
   "cell_type": "code",
   "execution_count": 13,
   "metadata": {},
   "outputs": [
    {
     "data": {
      "text/plain": [
       "other       24312\n",
       "sourcing    18621\n",
       "referred      913\n",
       "Name: recruitment_channel, dtype: int64"
      ]
     },
     "execution_count": 13,
     "metadata": {},
     "output_type": "execute_result"
    }
   ],
   "source": [
    "df['recruitment_channel'].value_counts()"
   ]
  },
  {
   "cell_type": "code",
   "execution_count": 14,
   "metadata": {},
   "outputs": [
    {
     "data": {
      "image/png": "[encoded data removed]",
      "text/plain": [
       "<Figure size 1080x720 with 2 Axes>"
      ]
     },
     "metadata": {
      "needs_background": "light"
     },
     "output_type": "display_data"
    }
   ],
   "source": [
    "fig = plt.gcf()\n",
    "fig.set_size_inches(15,10)\n",
    "sns.heatmap(df.corr(), annot=True)\n",
    "plt.show()"
   ]
  },
  {
   "cell_type": "markdown",
   "metadata": {},
   "source": [
    "### Average training score, KPI met, awards won has more relation with promotion."
   ]
  },
  {
   "cell_type": "code",
   "execution_count": 42,
   "metadata": {},
   "outputs": [
    {
     "data": {
      "text/html": [
       "<div>\n",
       "<style scoped>\n",
       "    .dataframe tbody tr th:only-of-type {\n",
       "        vertical-align: middle;\n",
       "    }\n",
       "\n",
       "    .dataframe tbody tr th {\n",
       "        vertical-align: top;\n",
       "    }\n",
       "\n",
       "    .dataframe thead th {\n",
       "        text-align: right;\n",
       "    }\n",
       "</style>\n",
       "<table border=\"1\" class=\"dataframe\">\n",
       "  <thead>\n",
       "    <tr style=\"text-align: right;\">\n",
       "      <th></th>\n",
       "      <th>no_of_trainings</th>\n",
       "      <th>age</th>\n",
       "      <th>previous_year_rating</th>\n",
       "      <th>length_of_service</th>\n",
       "      <th>KPIs_met &gt;80%</th>\n",
       "      <th>awards_won?</th>\n",
       "      <th>avg_training_score</th>\n",
       "      <th>is_promoted</th>\n",
       "    </tr>\n",
       "  </thead>\n",
       "  <tbody>\n",
       "    <tr>\n",
       "      <th>count</th>\n",
       "      <td>54808.000000</td>\n",
       "      <td>54808.000000</td>\n",
       "      <td>50684.000000</td>\n",
       "      <td>54808.000000</td>\n",
       "      <td>54808.000000</td>\n",
       "      <td>54808.000000</td>\n",
       "      <td>54808.000000</td>\n",
       "      <td>54808.000000</td>\n",
       "    </tr>\n",
       "    <tr>\n",
       "      <th>mean</th>\n",
       "      <td>1.253011</td>\n",
       "      <td>34.803915</td>\n",
       "      <td>3.329256</td>\n",
       "      <td>5.865512</td>\n",
       "      <td>0.351974</td>\n",
       "      <td>0.023172</td>\n",
       "      <td>63.386750</td>\n",
       "      <td>0.085170</td>\n",
       "    </tr>\n",
       "    <tr>\n",
       "      <th>std</th>\n",
       "      <td>0.609264</td>\n",
       "      <td>7.660169</td>\n",
       "      <td>1.259993</td>\n",
       "      <td>4.265094</td>\n",
       "      <td>0.477590</td>\n",
       "      <td>0.150450</td>\n",
       "      <td>13.371559</td>\n",
       "      <td>0.279137</td>\n",
       "    </tr>\n",
       "    <tr>\n",
       "      <th>min</th>\n",
       "      <td>1.000000</td>\n",
       "      <td>20.000000</td>\n",
       "      <td>1.000000</td>\n",
       "      <td>1.000000</td>\n",
       "      <td>0.000000</td>\n",
       "      <td>0.000000</td>\n",
       "      <td>39.000000</td>\n",
       "      <td>0.000000</td>\n",
       "    </tr>\n",
       "    <tr>\n",
       "      <th>25%</th>\n",
       "      <td>1.000000</td>\n",
       "      <td>29.000000</td>\n",
       "      <td>3.000000</td>\n",
       "      <td>3.000000</td>\n",
       "      <td>0.000000</td>\n",
       "      <td>0.000000</td>\n",
       "      <td>51.000000</td>\n",
       "      <td>0.000000</td>\n",
       "    </tr>\n",
       "    <tr>\n",
       "      <th>50%</th>\n",
       "      <td>1.000000</td>\n",
       "      <td>33.000000</td>\n",
       "      <td>3.000000</td>\n",
       "      <td>5.000000</td>\n",
       "      <td>0.000000</td>\n",
       "      <td>0.000000</td>\n",
       "      <td>60.000000</td>\n",
       "      <td>0.000000</td>\n",
       "    </tr>\n",
       "    <tr>\n",
       "      <th>75%</th>\n",
       "      <td>1.000000</td>\n",
       "      <td>39.000000</td>\n",
       "      <td>4.000000</td>\n",
       "      <td>7.000000</td>\n",
       "      <td>1.000000</td>\n",
       "      <td>0.000000</td>\n",
       "      <td>76.000000</td>\n",
       "      <td>0.000000</td>\n",
       "    </tr>\n",
       "    <tr>\n",
       "      <th>max</th>\n",
       "      <td>10.000000</td>\n",
       "      <td>60.000000</td>\n",
       "      <td>5.000000</td>\n",
       "      <td>37.000000</td>\n",
       "      <td>1.000000</td>\n",
       "      <td>1.000000</td>\n",
       "      <td>99.000000</td>\n",
       "      <td>1.000000</td>\n",
       "    </tr>\n",
       "  </tbody>\n",
       "</table>\n",
       "</div>"
      ],
      "text/plain": [
       "       no_of_trainings           age  previous_year_rating  length_of_service  \\\n",
       "count     54808.000000  54808.000000          50684.000000       54808.000000   \n",
       "mean          1.253011     34.803915              3.329256           5.865512   \n",
       "std           0.609264      7.660169              1.259993           4.265094   \n",
       "min           1.000000     20.000000              1.000000           1.000000   \n",
       "25%           1.000000     29.000000              3.000000           3.000000   \n",
       "50%           1.000000     33.000000              3.000000           5.000000   \n",
       "75%           1.000000     39.000000              4.000000           7.000000   \n",
       "max          10.000000     60.000000              5.000000          37.000000   \n",
       "\n",
       "       KPIs_met >80%   awards_won?  avg_training_score   is_promoted  \n",
       "count   54808.000000  54808.000000        54808.000000  54808.000000  \n",
       "mean        0.351974      0.023172           63.386750      0.085170  \n",
       "std         0.477590      0.150450           13.371559      0.279137  \n",
       "min         0.000000      0.000000           39.000000      0.000000  \n",
       "25%         0.000000      0.000000           51.000000      0.000000  \n",
       "50%         0.000000      0.000000           60.000000      0.000000  \n",
       "75%         1.000000      0.000000           76.000000      0.000000  \n",
       "max         1.000000      1.000000           99.000000      1.000000  "
      ]
     },
     "execution_count": 42,
     "metadata": {},
     "output_type": "execute_result"
    }
   ],
   "source": [
    "df.describe()"
   ]
  },
  {
   "cell_type": "code",
   "execution_count": 15,
   "metadata": {},
   "outputs": [],
   "source": [
    "cat_features = []\n",
    "num_features = []\n",
    "for col in df.columns:\n",
    "    if (df[col].dtype =='O'):\n",
    "        cat_features.append(col)\n",
    "    else:\n",
    "        if (df[col].unique().size > 10):\n",
    "            num_features.append(col)\n",
    "        else:\n",
    "            cat_features.append(col)"
   ]
  },
  {
   "cell_type": "code",
   "execution_count": 16,
   "metadata": {},
   "outputs": [
    {
     "data": {
      "text/plain": [
       "['department',\n",
       " 'region',\n",
       " 'education',\n",
       " 'gender',\n",
       " 'recruitment_channel',\n",
       " 'no_of_trainings',\n",
       " 'previous_year_rating',\n",
       " 'KPIs_met >80%',\n",
       " 'awards_won?',\n",
       " 'is_promoted']"
      ]
     },
     "execution_count": 16,
     "metadata": {},
     "output_type": "execute_result"
    }
   ],
   "source": [
    "cat_features"
   ]
  },
  {
   "cell_type": "code",
   "execution_count": 17,
   "metadata": {},
   "outputs": [
    {
     "data": {
      "image/png": "[encoded data removed]",
      "text/plain": [
       "<Figure size 432x288 with 1 Axes>"
      ]
     },
     "metadata": {
      "needs_background": "light"
     },
     "output_type": "display_data"
    },
    {
     "data": {
      "image/png": "[encoded data removed]",
      "text/plain": [
       "<Figure size 432x288 with 1 Axes>"
      ]
     },
     "metadata": {
      "needs_background": "light"
     },
     "output_type": "display_data"
    },
    {
     "data": {
      "image/png": "[encoded data removed]",
      "text/plain": [
       "<Figure size 432x288 with 1 Axes>"
      ]
     },
     "metadata": {
      "needs_background": "light"
     },
     "output_type": "display_data"
    },
    {
     "data": {
      "image/png": "[encoded data removed]",
      "text/plain": [
       "<Figure size 432x288 with 1 Axes>"
      ]
     },
     "metadata": {
      "needs_background": "light"
     },
     "output_type": "display_data"
    }
   ],
   "source": [
    "for col in num_features:\n",
    "    sns.kdeplot(df[col])\n",
    "    plt.show()"
   ]
  },
  {
   "cell_type": "code",
   "execution_count": 18,
   "metadata": {},
   "outputs": [
    {
     "data": {
      "text/plain": [
       "array(['length_of_service'], dtype=object)"
      ]
     },
     "execution_count": 18,
     "metadata": {},
     "output_type": "execute_result"
    }
   ],
   "source": [
    "skew_data = df[num_features].skew(axis = 0, skipna = True)\n",
    "asa = []\n",
    "asa = skew_data[skew_data > 1.1].index.values\n",
    "asa"
   ]
  },
  {
   "cell_type": "markdown",
   "metadata": {},
   "source": [
    "### We can see length of service has large skewness. So we can try log transformation on it."
   ]
  },
  {
   "cell_type": "code",
   "execution_count": 109,
   "metadata": {},
   "outputs": [
    {
     "data": {
      "text/html": [
       "<div>\n",
       "<style scoped>\n",
       "    .dataframe tbody tr th:only-of-type {\n",
       "        vertical-align: middle;\n",
       "    }\n",
       "\n",
       "    .dataframe tbody tr th {\n",
       "        vertical-align: top;\n",
       "    }\n",
       "\n",
       "    .dataframe thead th {\n",
       "        text-align: right;\n",
       "    }\n",
       "</style>\n",
       "<table border=\"1\" class=\"dataframe\">\n",
       "  <thead>\n",
       "    <tr style=\"text-align: right;\">\n",
       "      <th></th>\n",
       "      <th>employee_id</th>\n",
       "      <th>department</th>\n",
       "      <th>region</th>\n",
       "      <th>education</th>\n",
       "      <th>gender</th>\n",
       "      <th>recruitment_channel</th>\n",
       "      <th>no_of_trainings</th>\n",
       "      <th>age</th>\n",
       "      <th>previous_year_rating</th>\n",
       "      <th>length_of_service</th>\n",
       "      <th>KPIs_met &gt;80%</th>\n",
       "      <th>awards_won?</th>\n",
       "      <th>avg_training_score</th>\n",
       "      <th>is_promoted</th>\n",
       "    </tr>\n",
       "  </thead>\n",
       "  <tbody>\n",
       "  </tbody>\n",
       "</table>\n",
       "</div>"
      ],
      "text/plain": [
       "Empty DataFrame\n",
       "Columns: [employee_id, department, region, education, gender, recruitment_channel, no_of_trainings, age, previous_year_rating, length_of_service, KPIs_met >80%, awards_won?, avg_training_score, is_promoted]\n",
       "Index: []"
      ]
     },
     "execution_count": 109,
     "metadata": {},
     "output_type": "execute_result"
    }
   ],
   "source": [
    "# checking if lenght of service has any values less than 1.\n",
    "df[df['length_of_service'] < 1]"
   ]
  },
  {
   "cell_type": "code",
   "execution_count": 19,
   "metadata": {},
   "outputs": [],
   "source": [
    "df['log_length_of_service'] = np.log(df['length_of_service'])"
   ]
  },
  {
   "cell_type": "code",
   "execution_count": 20,
   "metadata": {},
   "outputs": [
    {
     "data": {
      "text/plain": [
       "-0.2877129572506811"
      ]
     },
     "execution_count": 20,
     "metadata": {},
     "output_type": "execute_result"
    }
   ],
   "source": [
    "df['log_length_of_service'].skew(axis = 0, skipna = True)"
   ]
  },
  {
   "cell_type": "code",
   "execution_count": 21,
   "metadata": {},
   "outputs": [],
   "source": [
    "\n",
    "df_new = df.copy()"
   ]
  },
  {
   "cell_type": "markdown",
   "metadata": {},
   "source": [
    "### Calculating new features that can give better results.\n",
    "### *. Calculating average training score and KPI group by region and department."
   ]
  },
  {
   "cell_type": "code",
   "execution_count": 22,
   "metadata": {},
   "outputs": [],
   "source": [
    "df_region_depart_mean_train_score = df_new.groupby(['region', 'department'])['avg_training_score'].agg('mean').unstack()"
   ]
  },
  {
   "cell_type": "code",
   "execution_count": 23,
   "metadata": {},
   "outputs": [
    {
     "data": {
      "text/html": [
       "<div>\n",
       "<style scoped>\n",
       "    .dataframe tbody tr th:only-of-type {\n",
       "        vertical-align: middle;\n",
       "    }\n",
       "\n",
       "    .dataframe tbody tr th {\n",
       "        vertical-align: top;\n",
       "    }\n",
       "\n",
       "    .dataframe thead th {\n",
       "        text-align: right;\n",
       "    }\n",
       "</style>\n",
       "<table border=\"1\" class=\"dataframe\">\n",
       "  <thead>\n",
       "    <tr style=\"text-align: right;\">\n",
       "      <th>department</th>\n",
       "      <th>Analytics</th>\n",
       "      <th>Finance</th>\n",
       "      <th>HR</th>\n",
       "      <th>Legal</th>\n",
       "      <th>Operations</th>\n",
       "      <th>Procurement</th>\n",
       "      <th>R&amp;D</th>\n",
       "      <th>Sales &amp; Marketing</th>\n",
       "      <th>Technology</th>\n",
       "    </tr>\n",
       "    <tr>\n",
       "      <th>region</th>\n",
       "      <th></th>\n",
       "      <th></th>\n",
       "      <th></th>\n",
       "      <th></th>\n",
       "      <th></th>\n",
       "      <th></th>\n",
       "      <th></th>\n",
       "      <th></th>\n",
       "      <th></th>\n",
       "    </tr>\n",
       "  </thead>\n",
       "  <tbody>\n",
       "    <tr>\n",
       "      <th>region_1</th>\n",
       "      <td>84.763636</td>\n",
       "      <td>59.666667</td>\n",
       "      <td>50.250000</td>\n",
       "      <td>63.000000</td>\n",
       "      <td>59.765957</td>\n",
       "      <td>69.933333</td>\n",
       "      <td>NaN</td>\n",
       "      <td>51.144366</td>\n",
       "      <td>79.910714</td>\n",
       "    </tr>\n",
       "    <tr>\n",
       "      <th>region_10</th>\n",
       "      <td>84.904762</td>\n",
       "      <td>59.700000</td>\n",
       "      <td>50.833333</td>\n",
       "      <td>NaN</td>\n",
       "      <td>59.462687</td>\n",
       "      <td>70.064000</td>\n",
       "      <td>87.500000</td>\n",
       "      <td>49.888325</td>\n",
       "      <td>79.989362</td>\n",
       "    </tr>\n",
       "    <tr>\n",
       "      <th>region_11</th>\n",
       "      <td>84.617647</td>\n",
       "      <td>59.865385</td>\n",
       "      <td>49.448276</td>\n",
       "      <td>59.222222</td>\n",
       "      <td>60.073913</td>\n",
       "      <td>69.615942</td>\n",
       "      <td>83.600000</td>\n",
       "      <td>49.804734</td>\n",
       "      <td>79.751938</td>\n",
       "    </tr>\n",
       "    <tr>\n",
       "      <th>region_12</th>\n",
       "      <td>84.428571</td>\n",
       "      <td>59.714286</td>\n",
       "      <td>50.428571</td>\n",
       "      <td>64.250000</td>\n",
       "      <td>60.058824</td>\n",
       "      <td>70.423077</td>\n",
       "      <td>83.500000</td>\n",
       "      <td>51.197080</td>\n",
       "      <td>79.724138</td>\n",
       "    </tr>\n",
       "    <tr>\n",
       "      <th>region_13</th>\n",
       "      <td>84.773585</td>\n",
       "      <td>60.714286</td>\n",
       "      <td>49.367647</td>\n",
       "      <td>58.884615</td>\n",
       "      <td>60.213457</td>\n",
       "      <td>70.208589</td>\n",
       "      <td>85.100000</td>\n",
       "      <td>50.608458</td>\n",
       "      <td>79.936508</td>\n",
       "    </tr>\n",
       "    <tr>\n",
       "      <th>region_14</th>\n",
       "      <td>84.972973</td>\n",
       "      <td>59.772727</td>\n",
       "      <td>50.416667</td>\n",
       "      <td>NaN</td>\n",
       "      <td>59.487179</td>\n",
       "      <td>70.413793</td>\n",
       "      <td>86.500000</td>\n",
       "      <td>50.456000</td>\n",
       "      <td>79.654321</td>\n",
       "    </tr>\n",
       "    <tr>\n",
       "      <th>region_15</th>\n",
       "      <td>84.571429</td>\n",
       "      <td>59.424242</td>\n",
       "      <td>50.160714</td>\n",
       "      <td>61.062500</td>\n",
       "      <td>60.260483</td>\n",
       "      <td>70.560554</td>\n",
       "      <td>85.037037</td>\n",
       "      <td>49.865782</td>\n",
       "      <td>80.585799</td>\n",
       "    </tr>\n",
       "    <tr>\n",
       "      <th>region_16</th>\n",
       "      <td>84.280000</td>\n",
       "      <td>59.578947</td>\n",
       "      <td>49.444444</td>\n",
       "      <td>60.571429</td>\n",
       "      <td>60.650862</td>\n",
       "      <td>69.367470</td>\n",
       "      <td>84.300000</td>\n",
       "      <td>50.102345</td>\n",
       "      <td>80.121212</td>\n",
       "    </tr>\n",
       "    <tr>\n",
       "      <th>region_17</th>\n",
       "      <td>83.954545</td>\n",
       "      <td>NaN</td>\n",
       "      <td>49.000000</td>\n",
       "      <td>63.000000</td>\n",
       "      <td>60.974026</td>\n",
       "      <td>70.365672</td>\n",
       "      <td>83.000000</td>\n",
       "      <td>49.940789</td>\n",
       "      <td>79.881720</td>\n",
       "    </tr>\n",
       "    <tr>\n",
       "      <th>region_18</th>\n",
       "      <td>NaN</td>\n",
       "      <td>NaN</td>\n",
       "      <td>NaN</td>\n",
       "      <td>NaN</td>\n",
       "      <td>61.000000</td>\n",
       "      <td>NaN</td>\n",
       "      <td>NaN</td>\n",
       "      <td>50.000000</td>\n",
       "      <td>NaN</td>\n",
       "    </tr>\n",
       "    <tr>\n",
       "      <th>region_19</th>\n",
       "      <td>84.944444</td>\n",
       "      <td>61.117647</td>\n",
       "      <td>53.000000</td>\n",
       "      <td>59.000000</td>\n",
       "      <td>59.940141</td>\n",
       "      <td>70.492958</td>\n",
       "      <td>86.750000</td>\n",
       "      <td>49.986784</td>\n",
       "      <td>80.408163</td>\n",
       "    </tr>\n",
       "    <tr>\n",
       "      <th>region_2</th>\n",
       "      <td>84.726368</td>\n",
       "      <td>59.804841</td>\n",
       "      <td>49.943320</td>\n",
       "      <td>59.506944</td>\n",
       "      <td>60.315300</td>\n",
       "      <td>70.278011</td>\n",
       "      <td>85.099379</td>\n",
       "      <td>50.530354</td>\n",
       "      <td>79.727905</td>\n",
       "    </tr>\n",
       "    <tr>\n",
       "      <th>region_20</th>\n",
       "      <td>84.226667</td>\n",
       "      <td>61.476190</td>\n",
       "      <td>49.648148</td>\n",
       "      <td>60.470588</td>\n",
       "      <td>59.924812</td>\n",
       "      <td>70.841463</td>\n",
       "      <td>79.666667</td>\n",
       "      <td>49.517391</td>\n",
       "      <td>79.983333</td>\n",
       "    </tr>\n",
       "    <tr>\n",
       "      <th>region_21</th>\n",
       "      <td>84.675676</td>\n",
       "      <td>58.750000</td>\n",
       "      <td>49.000000</td>\n",
       "      <td>62.000000</td>\n",
       "      <td>59.690722</td>\n",
       "      <td>69.400000</td>\n",
       "      <td>86.666667</td>\n",
       "      <td>49.398305</td>\n",
       "      <td>78.928571</td>\n",
       "    </tr>\n",
       "    <tr>\n",
       "      <th>region_22</th>\n",
       "      <td>84.645761</td>\n",
       "      <td>60.634752</td>\n",
       "      <td>50.194553</td>\n",
       "      <td>60.218750</td>\n",
       "      <td>60.488335</td>\n",
       "      <td>70.188034</td>\n",
       "      <td>84.327014</td>\n",
       "      <td>50.405745</td>\n",
       "      <td>79.869215</td>\n",
       "    </tr>\n",
       "    <tr>\n",
       "      <th>region_23</th>\n",
       "      <td>84.687500</td>\n",
       "      <td>61.250000</td>\n",
       "      <td>49.314286</td>\n",
       "      <td>61.000000</td>\n",
       "      <td>60.481928</td>\n",
       "      <td>70.440000</td>\n",
       "      <td>85.700000</td>\n",
       "      <td>50.347682</td>\n",
       "      <td>79.935829</td>\n",
       "    </tr>\n",
       "    <tr>\n",
       "      <th>region_24</th>\n",
       "      <td>83.633333</td>\n",
       "      <td>59.333333</td>\n",
       "      <td>48.000000</td>\n",
       "      <td>59.400000</td>\n",
       "      <td>59.565217</td>\n",
       "      <td>69.121212</td>\n",
       "      <td>87.666667</td>\n",
       "      <td>49.669421</td>\n",
       "      <td>79.808081</td>\n",
       "    </tr>\n",
       "    <tr>\n",
       "      <th>region_25</th>\n",
       "      <td>84.710744</td>\n",
       "      <td>61.187500</td>\n",
       "      <td>49.692308</td>\n",
       "      <td>59.600000</td>\n",
       "      <td>60.117647</td>\n",
       "      <td>69.833333</td>\n",
       "      <td>83.615385</td>\n",
       "      <td>50.484940</td>\n",
       "      <td>79.196970</td>\n",
       "    </tr>\n",
       "    <tr>\n",
       "      <th>region_26</th>\n",
       "      <td>84.144330</td>\n",
       "      <td>59.921260</td>\n",
       "      <td>50.608108</td>\n",
       "      <td>59.480000</td>\n",
       "      <td>59.734824</td>\n",
       "      <td>69.952607</td>\n",
       "      <td>84.225352</td>\n",
       "      <td>50.222222</td>\n",
       "      <td>80.136667</td>\n",
       "    </tr>\n",
       "    <tr>\n",
       "      <th>region_27</th>\n",
       "      <td>84.440860</td>\n",
       "      <td>59.753846</td>\n",
       "      <td>50.081081</td>\n",
       "      <td>59.674419</td>\n",
       "      <td>60.023026</td>\n",
       "      <td>69.950000</td>\n",
       "      <td>84.350000</td>\n",
       "      <td>50.427848</td>\n",
       "      <td>80.081340</td>\n",
       "    </tr>\n",
       "    <tr>\n",
       "      <th>region_28</th>\n",
       "      <td>84.964646</td>\n",
       "      <td>61.554054</td>\n",
       "      <td>50.051282</td>\n",
       "      <td>57.000000</td>\n",
       "      <td>59.762887</td>\n",
       "      <td>69.173913</td>\n",
       "      <td>85.400000</td>\n",
       "      <td>50.875000</td>\n",
       "      <td>79.986842</td>\n",
       "    </tr>\n",
       "    <tr>\n",
       "      <th>region_29</th>\n",
       "      <td>84.738693</td>\n",
       "      <td>59.363636</td>\n",
       "      <td>50.777778</td>\n",
       "      <td>60.800000</td>\n",
       "      <td>59.685083</td>\n",
       "      <td>69.343750</td>\n",
       "      <td>84.666667</td>\n",
       "      <td>49.668317</td>\n",
       "      <td>79.450980</td>\n",
       "    </tr>\n",
       "    <tr>\n",
       "      <th>region_3</th>\n",
       "      <td>83.636364</td>\n",
       "      <td>62.500000</td>\n",
       "      <td>49.800000</td>\n",
       "      <td>57.000000</td>\n",
       "      <td>61.093750</td>\n",
       "      <td>69.333333</td>\n",
       "      <td>82.000000</td>\n",
       "      <td>50.586207</td>\n",
       "      <td>80.769231</td>\n",
       "    </tr>\n",
       "    <tr>\n",
       "      <th>region_30</th>\n",
       "      <td>84.400000</td>\n",
       "      <td>62.795918</td>\n",
       "      <td>50.875000</td>\n",
       "      <td>60.000000</td>\n",
       "      <td>60.734694</td>\n",
       "      <td>70.615385</td>\n",
       "      <td>85.500000</td>\n",
       "      <td>49.681592</td>\n",
       "      <td>80.046512</td>\n",
       "    </tr>\n",
       "    <tr>\n",
       "      <th>region_31</th>\n",
       "      <td>84.529126</td>\n",
       "      <td>59.892857</td>\n",
       "      <td>49.730159</td>\n",
       "      <td>60.758621</td>\n",
       "      <td>59.925595</td>\n",
       "      <td>69.790850</td>\n",
       "      <td>84.947368</td>\n",
       "      <td>49.656566</td>\n",
       "      <td>80.175824</td>\n",
       "    </tr>\n",
       "    <tr>\n",
       "      <th>region_32</th>\n",
       "      <td>84.720779</td>\n",
       "      <td>59.418605</td>\n",
       "      <td>49.489362</td>\n",
       "      <td>59.142857</td>\n",
       "      <td>60.308370</td>\n",
       "      <td>69.625000</td>\n",
       "      <td>84.250000</td>\n",
       "      <td>49.628319</td>\n",
       "      <td>80.761905</td>\n",
       "    </tr>\n",
       "    <tr>\n",
       "      <th>region_33</th>\n",
       "      <td>84.000000</td>\n",
       "      <td>61.000000</td>\n",
       "      <td>49.000000</td>\n",
       "      <td>NaN</td>\n",
       "      <td>58.600000</td>\n",
       "      <td>69.458333</td>\n",
       "      <td>NaN</td>\n",
       "      <td>49.761905</td>\n",
       "      <td>79.800000</td>\n",
       "    </tr>\n",
       "    <tr>\n",
       "      <th>region_34</th>\n",
       "      <td>84.974359</td>\n",
       "      <td>60.500000</td>\n",
       "      <td>49.000000</td>\n",
       "      <td>58.833333</td>\n",
       "      <td>59.851852</td>\n",
       "      <td>69.878788</td>\n",
       "      <td>NaN</td>\n",
       "      <td>50.200000</td>\n",
       "      <td>79.416667</td>\n",
       "    </tr>\n",
       "    <tr>\n",
       "      <th>region_4</th>\n",
       "      <td>84.091743</td>\n",
       "      <td>60.700000</td>\n",
       "      <td>51.294118</td>\n",
       "      <td>59.555556</td>\n",
       "      <td>61.059783</td>\n",
       "      <td>69.670968</td>\n",
       "      <td>84.264151</td>\n",
       "      <td>50.401806</td>\n",
       "      <td>80.107143</td>\n",
       "    </tr>\n",
       "    <tr>\n",
       "      <th>region_5</th>\n",
       "      <td>84.175000</td>\n",
       "      <td>59.909091</td>\n",
       "      <td>52.111111</td>\n",
       "      <td>59.769231</td>\n",
       "      <td>60.216667</td>\n",
       "      <td>69.526786</td>\n",
       "      <td>86.000000</td>\n",
       "      <td>50.145349</td>\n",
       "      <td>79.892857</td>\n",
       "    </tr>\n",
       "    <tr>\n",
       "      <th>region_6</th>\n",
       "      <td>84.048780</td>\n",
       "      <td>60.027027</td>\n",
       "      <td>50.700000</td>\n",
       "      <td>59.500000</td>\n",
       "      <td>59.709924</td>\n",
       "      <td>69.244444</td>\n",
       "      <td>81.500000</td>\n",
       "      <td>50.208531</td>\n",
       "      <td>79.652174</td>\n",
       "    </tr>\n",
       "    <tr>\n",
       "      <th>region_7</th>\n",
       "      <td>84.512739</td>\n",
       "      <td>60.964497</td>\n",
       "      <td>50.252747</td>\n",
       "      <td>60.047059</td>\n",
       "      <td>60.336207</td>\n",
       "      <td>70.142329</td>\n",
       "      <td>84.418919</td>\n",
       "      <td>50.202433</td>\n",
       "      <td>80.111975</td>\n",
       "    </tr>\n",
       "    <tr>\n",
       "      <th>region_8</th>\n",
       "      <td>84.514286</td>\n",
       "      <td>62.076923</td>\n",
       "      <td>50.285714</td>\n",
       "      <td>54.000000</td>\n",
       "      <td>60.111111</td>\n",
       "      <td>70.862069</td>\n",
       "      <td>84.785714</td>\n",
       "      <td>50.412698</td>\n",
       "      <td>79.439024</td>\n",
       "    </tr>\n",
       "    <tr>\n",
       "      <th>region_9</th>\n",
       "      <td>84.863636</td>\n",
       "      <td>60.625000</td>\n",
       "      <td>NaN</td>\n",
       "      <td>61.666667</td>\n",
       "      <td>59.750000</td>\n",
       "      <td>69.428571</td>\n",
       "      <td>82.000000</td>\n",
       "      <td>50.090909</td>\n",
       "      <td>80.259259</td>\n",
       "    </tr>\n",
       "  </tbody>\n",
       "</table>\n",
       "</div>"
      ],
      "text/plain": [
       "department  Analytics    Finance         HR      Legal  Operations  \\\n",
       "region                                                               \n",
       "region_1    84.763636  59.666667  50.250000  63.000000   59.765957   \n",
       "region_10   84.904762  59.700000  50.833333        NaN   59.462687   \n",
       "region_11   84.617647  59.865385  49.448276  59.222222   60.073913   \n",
       "region_12   84.428571  59.714286  50.428571  64.250000   60.058824   \n",
       "region_13   84.773585  60.714286  49.367647  58.884615   60.213457   \n",
       "region_14   84.972973  59.772727  50.416667        NaN   59.487179   \n",
       "region_15   84.571429  59.424242  50.160714  61.062500   60.260483   \n",
       "region_16   84.280000  59.578947  49.444444  60.571429   60.650862   \n",
       "region_17   83.954545        NaN  49.000000  63.000000   60.974026   \n",
       "region_18         NaN        NaN        NaN        NaN   61.000000   \n",
       "region_19   84.944444  61.117647  53.000000  59.000000   59.940141   \n",
       "region_2    84.726368  59.804841  49.943320  59.506944   60.315300   \n",
       "region_20   84.226667  61.476190  49.648148  60.470588   59.924812   \n",
       "region_21   84.675676  58.750000  49.000000  62.000000   59.690722   \n",
       "region_22   84.645761  60.634752  50.194553  60.218750   60.488335   \n",
       "region_23   84.687500  61.250000  49.314286  61.000000   60.481928   \n",
       "region_24   83.633333  59.333333  48.000000  59.400000   59.565217   \n",
       "region_25   84.710744  61.187500  49.692308  59.600000   60.117647   \n",
       "region_26   84.144330  59.921260  50.608108  59.480000   59.734824   \n",
       "region_27   84.440860  59.753846  50.081081  59.674419   60.023026   \n",
       "region_28   84.964646  61.554054  50.051282  57.000000   59.762887   \n",
       "region_29   84.738693  59.363636  50.777778  60.800000   59.685083   \n",
       "region_3    83.636364  62.500000  49.800000  57.000000   61.093750   \n",
       "region_30   84.400000  62.795918  50.875000  60.000000   60.734694   \n",
       "region_31   84.529126  59.892857  49.730159  60.758621   59.925595   \n",
       "region_32   84.720779  59.418605  49.489362  59.142857   60.308370   \n",
       "region_33   84.000000  61.000000  49.000000        NaN   58.600000   \n",
       "region_34   84.974359  60.500000  49.000000  58.833333   59.851852   \n",
       "region_4    84.091743  60.700000  51.294118  59.555556   61.059783   \n",
       "region_5    84.175000  59.909091  52.111111  59.769231   60.216667   \n",
       "region_6    84.048780  60.027027  50.700000  59.500000   59.709924   \n",
       "region_7    84.512739  60.964497  50.252747  60.047059   60.336207   \n",
       "region_8    84.514286  62.076923  50.285714  54.000000   60.111111   \n",
       "region_9    84.863636  60.625000        NaN  61.666667   59.750000   \n",
       "\n",
       "department  Procurement        R&D  Sales & Marketing  Technology  \n",
       "region                                                             \n",
       "region_1      69.933333        NaN          51.144366   79.910714  \n",
       "region_10     70.064000  87.500000          49.888325   79.989362  \n",
       "region_11     69.615942  83.600000          49.804734   79.751938  \n",
       "region_12     70.423077  83.500000          51.197080   79.724138  \n",
       "region_13     70.208589  85.100000          50.608458   79.936508  \n",
       "region_14     70.413793  86.500000          50.456000   79.654321  \n",
       "region_15     70.560554  85.037037          49.865782   80.585799  \n",
       "region_16     69.367470  84.300000          50.102345   80.121212  \n",
       "region_17     70.365672  83.000000          49.940789   79.881720  \n",
       "region_18           NaN        NaN          50.000000         NaN  \n",
       "region_19     70.492958  86.750000          49.986784   80.408163  \n",
       "region_2      70.278011  85.099379          50.530354   79.727905  \n",
       "region_20     70.841463  79.666667          49.517391   79.983333  \n",
       "region_21     69.400000  86.666667          49.398305   78.928571  \n",
       "region_22     70.188034  84.327014          50.405745   79.869215  \n",
       "region_23     70.440000  85.700000          50.347682   79.935829  \n",
       "region_24     69.121212  87.666667          49.669421   79.808081  \n",
       "region_25     69.833333  83.615385          50.484940   79.196970  \n",
       "region_26     69.952607  84.225352          50.222222   80.136667  \n",
       "region_27     69.950000  84.350000          50.427848   80.081340  \n",
       "region_28     69.173913  85.400000          50.875000   79.986842  \n",
       "region_29     69.343750  84.666667          49.668317   79.450980  \n",
       "region_3      69.333333  82.000000          50.586207   80.769231  \n",
       "region_30     70.615385  85.500000          49.681592   80.046512  \n",
       "region_31     69.790850  84.947368          49.656566   80.175824  \n",
       "region_32     69.625000  84.250000          49.628319   80.761905  \n",
       "region_33     69.458333        NaN          49.761905   79.800000  \n",
       "region_34     69.878788        NaN          50.200000   79.416667  \n",
       "region_4      69.670968  84.264151          50.401806   80.107143  \n",
       "region_5      69.526786  86.000000          50.145349   79.892857  \n",
       "region_6      69.244444  81.500000          50.208531   79.652174  \n",
       "region_7      70.142329  84.418919          50.202433   80.111975  \n",
       "region_8      70.862069  84.785714          50.412698   79.439024  \n",
       "region_9      69.428571  82.000000          50.090909   80.259259  "
      ]
     },
     "execution_count": 23,
     "metadata": {},
     "output_type": "execute_result"
    }
   ],
   "source": [
    "df_region_depart_mean_train_score"
   ]
  },
  {
   "cell_type": "code",
   "execution_count": 24,
   "metadata": {},
   "outputs": [],
   "source": [
    "def calculate_train_score_wrt_reg_and_depart(x):\n",
    "    return x['avg_training_score']/df_region_depart_mean_train_score.loc[x['region']][x['department']]\n",
    "\n",
    "df_new['avg_train_score_gby_reg_dep'] = df_new.apply(calculate_train_score_wrt_reg_and_depart, axis=1)"
   ]
  },
  {
   "cell_type": "code",
   "execution_count": 27,
   "metadata": {},
   "outputs": [
    {
     "data": {
      "image/png": "[encoded data removed]",
      "text/plain": [
       "<Figure size 432x288 with 1 Axes>"
      ]
     },
     "metadata": {
      "needs_background": "light"
     },
     "output_type": "display_data"
    }
   ],
   "source": [
    "sns.distplot(df_new[df_new['is_promoted'] == 0]['avg_train_score_gby_reg_dep'], label = 'not promoted')\n",
    "sns.distplot(df_new[df_new['is_promoted'] == 1]['avg_train_score_gby_reg_dep'], label='promoted');\n",
    "plt.legend()\n",
    "plt.show()"
   ]
  },
  {
   "cell_type": "markdown",
   "metadata": {},
   "source": [
    "### This helped in distinguishing the promoted and not promoted ones"
   ]
  },
  {
   "cell_type": "code",
   "execution_count": 28,
   "metadata": {},
   "outputs": [],
   "source": [
    "train, test = train_test_split(df, test_size= 0.2, random_state = 42)"
   ]
  },
  {
   "cell_type": "code",
   "execution_count": 29,
   "metadata": {},
   "outputs": [],
   "source": [
    "X_train = train.drop('is_promoted', axis=1)\n",
    "y_train = train['is_promoted']\n",
    "X_test = test.drop('is_promoted', axis=1)\n",
    "y_test = test['is_promoted']"
   ]
  },
  {
   "cell_type": "code",
   "execution_count": 30,
   "metadata": {},
   "outputs": [
    {
     "name": "stdout",
     "output_type": "stream",
     "text": [
      "(35076, 14) (8770, 14)\n"
     ]
    }
   ],
   "source": [
    "print(X_train.shape, X_test.shape)"
   ]
  },
  {
   "cell_type": "code",
   "execution_count": 26,
   "metadata": {},
   "outputs": [],
   "source": [
    "class CalculateNewFeature():\n",
    "    \n",
    "    def __init__(self):\n",
    "        self.df_region_depart_mean_score = pd.DataFrame()\n",
    "        self.df_region_depart_KPI_avg_score = pd.DataFrame()\n",
    "        self.df_region_depart_awards_won = pd.DataFrame()\n",
    "    \n",
    "    def fit(self, x_dataset, y=None):\n",
    "        #self.df_region_depart_mean_score = x_dataset.groupby(['region', 'department'])['avg_training_score'].agg('mean').unstack()\n",
    "        #self.df_region_depart_los_mean_score = x_dataset.groupby(['region', 'department'])['length_of_service'].agg('mean').unstack()\n",
    "        return self\n",
    "\n",
    "    def calculate_score_wrt_reg_and_depart(self, x):\n",
    "        return x['avg_training_score']/self.df_region_depart_mean_score.loc[x['region']][x['department']]\n",
    "\n",
    "    def calculate_df_region_depart_KPI_avg_score(self, x):\n",
    "        if self.df_region_depart_KPI_avg_score.loc[x['region']][x['department']] == 0:\n",
    "            return 0\n",
    "        \n",
    "        return x['KPIs_met >80%']/self.df_region_depart_KPI_avg_score.loc[x['region']][x['department']]\n",
    "    \n",
    "    def calculate_df_region_depart_awards_won(self, x):\n",
    "        try:\n",
    "            return x['awards_won?']/self.df_region_depart_awards_won.loc[x['region']][x['department']]\n",
    "        except:\n",
    "            return 0\n",
    "    \n",
    "    def transform(self, x_dataset, y=None):\n",
    "        self.df_region_depart_mean_score = x_dataset.groupby(['region', 'department'])['avg_training_score'].agg('mean').unstack()\n",
    "        self.df_region_depart_KPI_avg_score = x_dataset.groupby(['region', 'department'])['KPIs_met >80%'].agg('mean').unstack()\n",
    "        self.df_region_depart_awads_won = x_dataset.groupby(['region', 'department'])['awards_won?'].agg('mean').unstack()\n",
    "        x_dataset = x_dataset.assign(avg_test_score_gby_reg_dep = x_dataset.apply(self.calculate_score_wrt_reg_and_depart, axis=1))\n",
    "        x_dataset = x_dataset.assign(KPIs_score_gby_reg_dep = x_dataset.apply(self.calculate_df_region_depart_KPI_avg_score, axis=1))\n",
    "        x_dataset = x_dataset.assign(awards_won_gby_reg_dep = x_dataset.apply(self.calculate_df_region_depart_awards_won, axis=1))\n",
    "        a = pd.DataFrame(StandardScaler().fit_transform(x_dataset[['avg_test_score_gby_reg_dep', 'KPIs_score_gby_reg_dep']]) , columns=['avg_test_score_gby_reg_dep', 'KPIs_score_gby_reg_dep'])\n",
    "        a['KPI_and_training_Score'] = a['avg_test_score_gby_reg_dep']+a['KPIs_score_gby_reg_dep'] \n",
    "        x_dataset = x_dataset.join(a['KPI_and_training_Score']) \n",
    "        return x_dataset\n",
    "    "
   ]
  },
  {
   "cell_type": "code",
   "execution_count": 31,
   "metadata": {},
   "outputs": [],
   "source": [
    "class Scale():\n",
    "    \n",
    "    def __init__(self):\n",
    "        self.minmax_scale = MinMaxScaler()\n",
    "    \n",
    "    def fit(self, x_dataset, y=None):\n",
    "        self.minmax_scale.fit(x_dataset)\n",
    "        return self\n",
    "\n",
    "    def transform(self, x_dataset, y=None):\n",
    "        return self.minmax_scale.transform(x_dataset)"
   ]
  },
  {
   "cell_type": "code",
   "execution_count": 32,
   "metadata": {},
   "outputs": [],
   "source": [
    "class Impute_Missing_Data():\n",
    "    \n",
    "    def __init__(self, cat_var, num_var):\n",
    "        self.cat_var = cat_var\n",
    "        self.num_var = num_var\n",
    "        self.sin = SimpleImputer(strategy='mean')\n",
    "        self.sic = SimpleImputer(strategy='most_frequent')\n",
    "    \n",
    "    def fit(self, x_dataset, y=None):\n",
    "        self.sic.fit(x_dataset[self.cat_var])\n",
    "        self.sin.fit(x_dataset[self.num_var])\n",
    "        return self\n",
    "\n",
    "    def transform(self, x_dataset, y=None):\n",
    "        x_dataset.loc[:][self.cat_var] = self.sic.transform(x_dataset[self.cat_var])\n",
    "        x_dataset.loc[:][self.num_var] = self.sin.transform(x_dataset[self.num_var])\n",
    "        x_dataset['KPI_and_training_Score'].fillna(value=0, inplace=True)\n",
    "        #x_dataset['awards_won_gby_reg_dep'].fillna(value=0, inplace=True)\n",
    "        return x_dataset"
   ]
  },
  {
   "cell_type": "code",
   "execution_count": 33,
   "metadata": {},
   "outputs": [],
   "source": [
    "pre_process = ColumnTransformer(remainder='passthrough', \n",
    "                                transformers=[\n",
    "                                              ('one_hot_encoding', ce.OneHotEncoder(), ['gender','education','recruitment_channel']),\n",
    "                                              #('binary_encoding', ce.BinaryEncoder(), ['department', 'region']),\n",
    "                                              ('drop_col', 'drop', [ 'gender', \n",
    "                                                                    'employee_id', 'recruitment_channel',\n",
    "                                                                    'avg_training_score', 'education','department', \n",
    "                                                                    'region', 'KPIs_score_gby_reg_dep', 'KPIs_met >80%'])\n",
    "                                             ])"
   ]
  },
  {
   "cell_type": "code",
   "execution_count": 34,
   "metadata": {},
   "outputs": [],
   "source": [
    "num_var = ['previous_year_rating']\n",
    "cat_var = ['education']"
   ]
  },
  {
   "cell_type": "code",
   "execution_count": 37,
   "metadata": {},
   "outputs": [],
   "source": [
    "pip = Pipeline(steps=[('calculate_new_feature', CalculateNewFeature()),\n",
    "                     ('impute_missing', Impute_Missing_Data(cat_var=cat_var, num_var=num_var)),\n",
    "                     ('pre_process', pre_process),\n",
    "                     ('scale', Scale()),\n",
    "                     ('random_forest', RandomForestClassifier(random_state=42, n_estimators=1000, max_depth=6))\n",
    "                     ])"
   ]
  },
  {
   "cell_type": "code",
   "execution_count": 38,
   "metadata": {},
   "outputs": [],
   "source": [
    "parameters = {\n",
    "    'random_forest__n_estimators':[800,900,1000],\n",
    "    'random_forest__max_depth':[4,5,6],\n",
    "}"
   ]
  },
  {
   "cell_type": "code",
   "execution_count": 39,
   "metadata": {},
   "outputs": [],
   "source": [
    "gcv = GridSearchCV(pip, parameters, cv=5, verbose=1)"
   ]
  },
  {
   "cell_type": "code",
   "execution_count": 40,
   "metadata": {
    "scrolled": true
   },
   "outputs": [
    {
     "data": {
      "text/plain": [
       "Pipeline(steps=[('calculate_new_feature',\n",
       "                 <__main__.CalculateNewFeature object at 0x000001BD915EE670>),\n",
       "                ('impute_missing',\n",
       "                 <__main__.Impute_Missing_Data object at 0x000001BD915EE0D0>),\n",
       "                ('pre_process',\n",
       "                 ColumnTransformer(remainder='passthrough',\n",
       "                                   transformers=[('one_hot_encoding',\n",
       "                                                  OneHotEncoder(),\n",
       "                                                  ['gender', 'education',\n",
       "                                                   'recruitment_channel']),\n",
       "                                                 ('drop_col', 'drop',\n",
       "                                                  ['gender', 'employee_id',\n",
       "                                                   'recruitment_channel',\n",
       "                                                   'avg_training_score',\n",
       "                                                   'education', 'department',\n",
       "                                                   'region',\n",
       "                                                   'KPIs_score_gby_reg_dep',\n",
       "                                                   'KPIs_met >80%'])])),\n",
       "                ('scale', <__main__.Scale object at 0x000001BD915EE760>),\n",
       "                ('random_forest',\n",
       "                 RandomForestClassifier(max_depth=6, n_estimators=1000,\n",
       "                                        random_state=42))])"
      ]
     },
     "execution_count": 40,
     "metadata": {},
     "output_type": "execute_result"
    }
   ],
   "source": [
    "pip.fit(X_train, y_train)"
   ]
  },
  {
   "cell_type": "code",
   "execution_count": 41,
   "metadata": {},
   "outputs": [],
   "source": [
    "pred_prob = pip.predict_proba(X_test)"
   ]
  },
  {
   "cell_type": "code",
   "execution_count": 42,
   "metadata": {},
   "outputs": [
    {
     "name": "stdout",
     "output_type": "stream",
     "text": [
      "F1 score for threshold :  0.0  :  0.0\n",
      "F1 score for threshold :  0.1  :  0.023904382470119518\n",
      "F1 score for threshold :  0.2  :  0.27378190255220414\n",
      "F1 score for threshold :  0.3  :  0.4451345755693582\n",
      "F1 score for threshold :  0.4  :  0.4598168870803662\n",
      "F1 score for threshold :  0.5  :  0.47437185929648246\n",
      "F1 score for threshold :  0.6  :  0.48055832502492524\n",
      "F1 score for threshold :  0.7  :  0.4883720930232558\n",
      "F1 score for threshold :  0.8  :  0.5027522935779817\n",
      "F1 score for threshold :  0.9  :  0.3556581986143187\n",
      "F1 score for threshold :  1.0  :  0.15640109312591968\n"
     ]
    }
   ],
   "source": [
    "for th in range(0, 110, 10):\n",
    "    y_pred_th = (pred_prob[:,0] <= (th/100)).astype('int')\n",
    "    #print(\"accuracy for threshold : \", th/100, \" : \", accuracy_score(y_test, y_pred_th))\n",
    "    print(\"F1 score for threshold : \" ,th/100, \" : \", f1_score(y_test, y_pred_th))\n",
    "    #print(confusion_matrix(y_test, y_pred_th))\n",
    "    #print(classification_report(y_test, y_pred_th))"
   ]
  },
  {
   "cell_type": "code",
   "execution_count": 46,
   "metadata": {},
   "outputs": [
    {
     "data": {
      "image/png": "[encoded data removed]",
      "text/plain": [
       "<Figure size 432x288 with 1 Axes>"
      ]
     },
     "metadata": {
      "needs_background": "light"
     },
     "output_type": "display_data"
    }
   ],
   "source": [
    "pre,rec,th = precision_recall_curve(y_test,pred_prob[:,1])\n",
    "plt.plot(rec,pre)\n",
    "plt.xlabel('Recall')\n",
    "plt.ylabel('Precision');"
   ]
  },
  {
   "cell_type": "markdown",
   "metadata": {},
   "source": [
    "### Trying undersampling"
   ]
  },
  {
   "cell_type": "code",
   "execution_count": 51,
   "metadata": {},
   "outputs": [],
   "source": [
    "ros = RandomUnderSampler(sampling_strategy=0.55)\n",
    "X_train_rus, y_train_rus = ros.fit_resample(X_train, y_train)"
   ]
  },
  {
   "cell_type": "code",
   "execution_count": 52,
   "metadata": {},
   "outputs": [],
   "source": [
    "pip_us = Pipeline(steps=[('calculate_new_feature', CalculateNewFeature()),\n",
    "                     ('impute_missing', Impute_Missing_Data(cat_var=cat_var, num_var=num_var)),\n",
    "                     ('pre_process', pre_process),\n",
    "                     ('scale', Scale()),\n",
    "                     ('random_forest', RandomForestClassifier(random_state=42, n_estimators=1000, max_depth=7))\n",
    "                     ])"
   ]
  },
  {
   "cell_type": "code",
   "execution_count": 53,
   "metadata": {},
   "outputs": [
    {
     "data": {
      "text/plain": [
       "Pipeline(steps=[('calculate_new_feature',\n",
       "                 <__main__.CalculateNewFeature object at 0x000001BD96078DF0>),\n",
       "                ('impute_missing',\n",
       "                 <__main__.Impute_Missing_Data object at 0x000001BD9605DB20>),\n",
       "                ('pre_process',\n",
       "                 ColumnTransformer(remainder='passthrough',\n",
       "                                   transformers=[('one_hot_encoding',\n",
       "                                                  OneHotEncoder(),\n",
       "                                                  ['gender', 'education',\n",
       "                                                   'recruitment_channel']),\n",
       "                                                 ('drop_col', 'drop',\n",
       "                                                  ['gender', 'employee_id',\n",
       "                                                   'recruitment_channel',\n",
       "                                                   'avg_training_score',\n",
       "                                                   'education', 'department',\n",
       "                                                   'region',\n",
       "                                                   'KPIs_score_gby_reg_dep',\n",
       "                                                   'KPIs_met >80%'])])),\n",
       "                ('scale', <__main__.Scale object at 0x000001BD96374AF0>),\n",
       "                ('random_forest',\n",
       "                 RandomForestClassifier(max_depth=7, n_estimators=1000,\n",
       "                                        random_state=42))])"
      ]
     },
     "execution_count": 53,
     "metadata": {},
     "output_type": "execute_result"
    }
   ],
   "source": [
    "pip_us.fit(X_train_rus, y_train_rus)"
   ]
  },
  {
   "cell_type": "code",
   "execution_count": 54,
   "metadata": {},
   "outputs": [],
   "source": [
    "pred_prob = pip_us.predict_proba(X_test)"
   ]
  },
  {
   "cell_type": "code",
   "execution_count": 56,
   "metadata": {},
   "outputs": [
    {
     "name": "stdout",
     "output_type": "stream",
     "text": [
      "F1 score for threshold :  0.0  :  0.0\n",
      "F1 score for threshold :  0.1  :  0.29646017699115046\n",
      "F1 score for threshold :  0.2  :  0.4523809523809524\n",
      "F1 score for threshold :  0.3  :  0.461139896373057\n",
      "F1 score for threshold :  0.4  :  0.4519155590304926\n",
      "F1 score for threshold :  0.5  :  0.30095488969377676\n",
      "F1 score for threshold :  0.6  :  0.17539463793535456\n",
      "F1 score for threshold :  0.7  :  0.16340989601188438\n",
      "F1 score for threshold :  0.8  :  0.16318228048367045\n",
      "F1 score for threshold :  0.9  :  0.16015625\n",
      "F1 score for threshold :  1.0  :  0.15640109312591968\n"
     ]
    }
   ],
   "source": [
    "for th in range(0, 110, 10):\n",
    "    y_pred_th = (pred_prob[:,0] <= (th/100)).astype('int')\n",
    "    #print(\"accuracy for threshold : \", th/100, \" : \", accuracy_score(y_test, y_pred_th))\n",
    "    print(\"F1 score for threshold : \" ,th/100, \" : \", f1_score(y_test, y_pred_th))\n",
    "    #print(confusion_matrix(y_test, y_pred_th))\n",
    "    #print(classification_report(y_test, y_pred_th))"
   ]
  },
  {
   "cell_type": "code",
   "execution_count": 57,
   "metadata": {},
   "outputs": [
    {
     "data": {
      "text/plain": [
       "0    5483\n",
       "1    3016\n",
       "Name: is_promoted, dtype: int64"
      ]
     },
     "execution_count": 57,
     "metadata": {},
     "output_type": "execute_result"
    }
   ],
   "source": [
    "y_train_ros.value_counts()"
   ]
  },
  {
   "cell_type": "code",
   "execution_count": 259,
   "metadata": {},
   "outputs": [
    {
     "data": {
      "text/plain": [
       "(10962, 14)"
      ]
     },
     "execution_count": 259,
     "metadata": {},
     "output_type": "execute_result"
    }
   ],
   "source": [
    "X_test.shape"
   ]
  },
  {
   "cell_type": "markdown",
   "metadata": {},
   "source": [
    "### Trying Oversampling"
   ]
  },
  {
   "cell_type": "code",
   "execution_count": 58,
   "metadata": {},
   "outputs": [],
   "source": [
    "from imblearn.over_sampling import SMOTE"
   ]
  },
  {
   "cell_type": "code",
   "execution_count": 59,
   "metadata": {},
   "outputs": [],
   "source": [
    "smote = SMOTE(random_state=42,sampling_strategy=0.6)"
   ]
  },
  {
   "cell_type": "code",
   "execution_count": 60,
   "metadata": {},
   "outputs": [],
   "source": [
    "pip_sm =  Pipeline(steps=[('calculate_new_feature', CalculateNewFeature()),\n",
    "                     ('impute_missing', Impute_Missing_Data(cat_var=cat_var, num_var=num_var)),\n",
    "                     ('pre_process', pre_process),\n",
    "                     ('scale', Scale())\n",
    "                     ])"
   ]
  },
  {
   "cell_type": "code",
   "execution_count": 61,
   "metadata": {},
   "outputs": [],
   "source": [
    "X_train_smote = pip_sm.fit_transform(X_train)"
   ]
  },
  {
   "cell_type": "code",
   "execution_count": 63,
   "metadata": {},
   "outputs": [],
   "source": [
    "x_smote, y_smote = smote.fit_resample(X_train_smote, y_train)"
   ]
  },
  {
   "cell_type": "code",
   "execution_count": 64,
   "metadata": {},
   "outputs": [],
   "source": [
    "rf = RandomForestClassifier(random_state=42, n_estimators=1000, max_depth=7)"
   ]
  },
  {
   "cell_type": "code",
   "execution_count": 65,
   "metadata": {},
   "outputs": [
    {
     "data": {
      "text/plain": [
       "RandomForestClassifier(max_depth=7, n_estimators=1000, random_state=42)"
      ]
     },
     "execution_count": 65,
     "metadata": {},
     "output_type": "execute_result"
    }
   ],
   "source": [
    "rf.fit(x_smote, y_smote)"
   ]
  },
  {
   "cell_type": "code",
   "execution_count": 69,
   "metadata": {},
   "outputs": [
    {
     "name": "stdout",
     "output_type": "stream",
     "text": [
      "F1 score for threshold :  0.0  :  0.0\n",
      "F1 score for threshold :  0.1  :  0.19782870928829915\n",
      "F1 score for threshold :  0.2  :  0.46834170854271356\n",
      "F1 score for threshold :  0.3  :  0.4918032786885245\n",
      "F1 score for threshold :  0.4  :  0.5041398344066238\n",
      "F1 score for threshold :  0.5  :  0.5095986038394414\n",
      "F1 score for threshold :  0.6  :  0.3834519572953737\n",
      "F1 score for threshold :  0.7  :  0.34044016506189817\n",
      "F1 score for threshold :  0.8  :  0.19824046920821115\n",
      "F1 score for threshold :  0.9  :  0.15776081424936386\n",
      "F1 score for threshold :  1.0  :  0.15640109312591968\n"
     ]
    }
   ],
   "source": [
    "X_test_smote = pip_sm.transform(X_test)\n",
    "pred_prob = rf.predict_proba(X_test_smote)\n",
    "for th in range(0, 110, 10):\n",
    "    y_pred_th = (pred_prob[:,0] <= (th/100)).astype('int')\n",
    "    #print(\"accuracy for threshold : \", th/100, \" : \", accuracy_score(y_test, y_pred_th))\n",
    "    print(\"F1 score for threshold : \" ,th/100, \" : \", f1_score(y_test, y_pred_th))\n",
    "    #print(confusion_matrix(y_test, y_pred_th))\n",
    "    #print(classification_report(y_test, y_pred_th))"
   ]
  },
  {
   "cell_type": "code",
   "execution_count": 70,
   "metadata": {},
   "outputs": [
    {
     "data": {
      "image/png": "[encoded data removed]",
      "text/plain": [
       "<Figure size 432x288 with 1 Axes>"
      ]
     },
     "metadata": {
      "needs_background": "light"
     },
     "output_type": "display_data"
    }
   ],
   "source": [
    "pre,rec,th = precision_recall_curve(y_test,pred_prob[:,1])\n",
    "plt.plot(rec,pre)\n",
    "plt.xlabel('Recall')\n",
    "plt.ylabel('Precision');"
   ]
  },
  {
   "cell_type": "code",
   "execution_count": 71,
   "metadata": {},
   "outputs": [],
   "source": [
    "parameters = {\n",
    "    'gamma':[0.5,0.6,0.7,0.8],\n",
    "    'n_estimators':[800,900,1000],\n",
    "    'scale_pos_weight':[5,10,15,20]\n",
    "}"
   ]
  },
  {
   "cell_type": "code",
   "execution_count": null,
   "metadata": {},
   "outputs": [],
   "source": [
    "cv = GridSearchCV(XGBClassifier(learning_rate = 0.0480,max_depth = 10,min_child_weight = 2,random_state=42), \n",
    "                  parameters, cv=5, verbose=1)"
   ]
  },
  {
   "cell_type": "code",
   "execution_count": 74,
   "metadata": {},
   "outputs": [],
   "source": [
    "clf = XGBClassifier(gamma = 0.5,learning_rate = 0.0480,max_depth = 10,min_child_weight = 2,n_estimators = 1000,\n",
    "                    random_state=42, scale_pos_weight=5)"
   ]
  },
  {
   "cell_type": "code",
   "execution_count": 75,
   "metadata": {},
   "outputs": [
    {
     "name": "stderr",
     "output_type": "stream",
     "text": [
      "C:\\Users\\LPT-2517\\anaconda3\\lib\\site-packages\\xgboost\\sklearn.py:888: UserWarning: The use of label encoder in XGBClassifier is deprecated and will be removed in a future release. To remove this warning, do the following: 1) Pass option use_label_encoder=False when constructing XGBClassifier object; and 2) Encode your labels (y) as integers starting with 0, i.e. 0, 1, 2, ..., [num_class - 1].\n",
      "  warnings.warn(label_encoder_deprecation_msg, UserWarning)\n"
     ]
    },
    {
     "name": "stdout",
     "output_type": "stream",
     "text": [
      "[00:40:12] WARNING: ..\\src\\learner.cc:1061: Starting in XGBoost 1.3.0, the default evaluation metric used with the objective 'binary:logistic' was changed from 'error' to 'logloss'. Explicitly set eval_metric if you'd like to restore the old behavior.\n",
      "F1 score for threshold :  0.1  :  0.47014925373134336\n",
      "F1 score for threshold :  0.2  :  0.471882640586797\n",
      "F1 score for threshold :  0.3  :  0.4703087885985747\n",
      "F1 score for threshold :  0.4  :  0.46035242290748896\n",
      "F1 score for threshold :  0.5  :  0.4442231075697211\n",
      "F1 score for threshold :  0.6  :  0.4117647058823529\n",
      "F1 score for threshold :  0.7  :  0.34954007884362687\n",
      "F1 score for threshold :  0.8  :  0.29105839416058393\n",
      "F1 score for threshold :  0.9  :  0.23146872416643702\n"
     ]
    },
    {
     "name": "stderr",
     "output_type": "stream",
     "text": [
      "C:\\Users\\LPT-2517\\anaconda3\\lib\\site-packages\\xgboost\\sklearn.py:888: UserWarning: The use of label encoder in XGBClassifier is deprecated and will be removed in a future release. To remove this warning, do the following: 1) Pass option use_label_encoder=False when constructing XGBClassifier object; and 2) Encode your labels (y) as integers starting with 0, i.e. 0, 1, 2, ..., [num_class - 1].\n",
      "  warnings.warn(label_encoder_deprecation_msg, UserWarning)\n"
     ]
    },
    {
     "name": "stdout",
     "output_type": "stream",
     "text": [
      "[00:41:33] WARNING: ..\\src\\learner.cc:1061: Starting in XGBoost 1.3.0, the default evaluation metric used with the objective 'binary:logistic' was changed from 'error' to 'logloss'. Explicitly set eval_metric if you'd like to restore the old behavior.\n",
      "F1 score for threshold :  0.1  :  0.4839506172839506\n",
      "F1 score for threshold :  0.2  :  0.49576783555018145\n",
      "F1 score for threshold :  0.3  :  0.5\n",
      "F1 score for threshold :  0.4  :  0.4921700223713646\n",
      "F1 score for threshold :  0.5  :  0.46646646646646645\n",
      "F1 score for threshold :  0.6  :  0.4210526315789474\n",
      "F1 score for threshold :  0.7  :  0.37226733291692693\n",
      "F1 score for threshold :  0.8  :  0.29888843145327293\n",
      "F1 score for threshold :  0.9  :  0.2214369846878681\n"
     ]
    },
    {
     "name": "stderr",
     "output_type": "stream",
     "text": [
      "C:\\Users\\LPT-2517\\anaconda3\\lib\\site-packages\\xgboost\\sklearn.py:888: UserWarning: The use of label encoder in XGBClassifier is deprecated and will be removed in a future release. To remove this warning, do the following: 1) Pass option use_label_encoder=False when constructing XGBClassifier object; and 2) Encode your labels (y) as integers starting with 0, i.e. 0, 1, 2, ..., [num_class - 1].\n",
      "  warnings.warn(label_encoder_deprecation_msg, UserWarning)\n"
     ]
    },
    {
     "name": "stdout",
     "output_type": "stream",
     "text": [
      "[00:42:59] WARNING: ..\\src\\learner.cc:1061: Starting in XGBoost 1.3.0, the default evaluation metric used with the objective 'binary:logistic' was changed from 'error' to 'logloss'. Explicitly set eval_metric if you'd like to restore the old behavior.\n",
      "F1 score for threshold :  0.1  :  0.48514851485148514\n",
      "F1 score for threshold :  0.2  :  0.4951456310679612\n",
      "F1 score for threshold :  0.3  :  0.5023696682464456\n",
      "F1 score for threshold :  0.4  :  0.4926884139482565\n",
      "F1 score for threshold :  0.5  :  0.47843942505133474\n",
      "F1 score for threshold :  0.6  :  0.44158075601374563\n",
      "F1 score for threshold :  0.7  :  0.3971166448230668\n",
      "F1 score for threshold :  0.8  :  0.31478260869565217\n",
      "F1 score for threshold :  0.9  :  0.22811001766338632\n"
     ]
    },
    {
     "name": "stderr",
     "output_type": "stream",
     "text": [
      "C:\\Users\\LPT-2517\\anaconda3\\lib\\site-packages\\xgboost\\sklearn.py:888: UserWarning: The use of label encoder in XGBClassifier is deprecated and will be removed in a future release. To remove this warning, do the following: 1) Pass option use_label_encoder=False when constructing XGBClassifier object; and 2) Encode your labels (y) as integers starting with 0, i.e. 0, 1, 2, ..., [num_class - 1].\n",
      "  warnings.warn(label_encoder_deprecation_msg, UserWarning)\n"
     ]
    },
    {
     "name": "stdout",
     "output_type": "stream",
     "text": [
      "[00:44:20] WARNING: ..\\src\\learner.cc:1061: Starting in XGBoost 1.3.0, the default evaluation metric used with the objective 'binary:logistic' was changed from 'error' to 'logloss'. Explicitly set eval_metric if you'd like to restore the old behavior.\n",
      "F1 score for threshold :  0.1  :  0.46115288220551387\n",
      "F1 score for threshold :  0.2  :  0.463803680981595\n",
      "F1 score for threshold :  0.3  :  0.45933014354066976\n",
      "F1 score for threshold :  0.4  :  0.464367816091954\n",
      "F1 score for threshold :  0.5  :  0.4474789915966387\n",
      "F1 score for threshold :  0.6  :  0.4056687333923827\n",
      "F1 score for threshold :  0.7  :  0.34867141931302664\n",
      "F1 score for threshold :  0.8  :  0.28880242109814097\n",
      "F1 score for threshold :  0.9  :  0.22416812609457087\n"
     ]
    },
    {
     "name": "stderr",
     "output_type": "stream",
     "text": [
      "C:\\Users\\LPT-2517\\anaconda3\\lib\\site-packages\\xgboost\\sklearn.py:888: UserWarning: The use of label encoder in XGBClassifier is deprecated and will be removed in a future release. To remove this warning, do the following: 1) Pass option use_label_encoder=False when constructing XGBClassifier object; and 2) Encode your labels (y) as integers starting with 0, i.e. 0, 1, 2, ..., [num_class - 1].\n",
      "  warnings.warn(label_encoder_deprecation_msg, UserWarning)\n"
     ]
    },
    {
     "name": "stdout",
     "output_type": "stream",
     "text": [
      "[00:45:43] WARNING: ..\\src\\learner.cc:1061: Starting in XGBoost 1.3.0, the default evaluation metric used with the objective 'binary:logistic' was changed from 'error' to 'logloss'. Explicitly set eval_metric if you'd like to restore the old behavior.\n",
      "F1 score for threshold :  0.1  :  0.44303797468354433\n",
      "F1 score for threshold :  0.2  :  0.4527363184079602\n",
      "F1 score for threshold :  0.3  :  0.4606060606060607\n",
      "F1 score for threshold :  0.4  :  0.44935972060535506\n",
      "F1 score for threshold :  0.5  :  0.4311632870864461\n",
      "F1 score for threshold :  0.6  :  0.39180765805877116\n",
      "F1 score for threshold :  0.7  :  0.35486063902107406\n",
      "F1 score for threshold :  0.8  :  0.29977628635346754\n",
      "F1 score for threshold :  0.9  :  0.23332474890548544\n"
     ]
    },
    {
     "data": {
      "image/png": "[encoded data removed]",
      "text/plain": [
       "<Figure size 432x288 with 1 Axes>"
      ]
     },
     "metadata": {
      "needs_background": "light"
     },
     "output_type": "display_data"
    }
   ],
   "source": [
    "skf = StratifiedKFold(n_splits=5)\n",
    "\n",
    "fold_no = 1\n",
    "\n",
    "for train_index, test_index in skf.split(X_train, y_train):\n",
    "    X_train_fold = X_train.iloc[train_index,:]\n",
    "    X_test_fold = X_train.iloc[test_index,:]\n",
    "    y_train_fold = y_train.iloc[train_index]\n",
    "    y_test_fold = y_train.iloc[test_index]\n",
    "    #print(test)\n",
    "    \n",
    "    X_train_ext= pip_sm.fit_transform(X_train_fold)\n",
    "    X_test_ext= pip_sm.transform(X_test_fold)\n",
    "    mod = clf.fit(X_train_ext,y_train_fold)\n",
    "    pred = mod.predict_proba(X_test_ext)\n",
    "    #keep prbabilities for possitive outcome only\n",
    "    pre,rec,th = precision_recall_curve(y_test_fold,pred[:,1])\n",
    "    plt.plot(rec,pre)\n",
    "    plt.xlabel('Recall')\n",
    "    plt.ylabel('Precision')\n",
    "    for th in range(10, 100, 10):\n",
    "        y_pred_th = (pred[:,0] <= (th/100)).astype('int')\n",
    "        #print(\"accuracy for threshold : \", th/100, \" : \", accuracy_score(y_test_fold, y_pred_th))\n",
    "        print(\"F1 score for threshold : \" ,th/100, \" : \", f1_score(y_test_fold, y_pred_th))\n",
    "        #print(confusion_matrix(y_test_fold, y_pred_th))\n",
    "        #print(classification_report(y_test_fold, y_pred_th))\n",
    "    fold_no += 1"
   ]
  },
  {
   "cell_type": "code",
   "execution_count": 76,
   "metadata": {},
   "outputs": [
    {
     "name": "stdout",
     "output_type": "stream",
     "text": [
      "F1 score for threshold :  0.0  :  0.0\n",
      "F1 score for threshold :  0.1  :  0.45918367346938777\n",
      "F1 score for threshold :  0.2  :  0.46906187624750495\n",
      "F1 score for threshold :  0.3  :  0.4738878143133462\n",
      "F1 score for threshold :  0.4  :  0.4691812327506899\n",
      "F1 score for threshold :  0.5  :  0.4607594936708861\n",
      "F1 score for threshold :  0.6  :  0.4333821376281113\n",
      "F1 score for threshold :  0.7  :  0.37252747252747254\n",
      "F1 score for threshold :  0.8  :  0.3\n",
      "F1 score for threshold :  0.9  :  0.22483221476510068\n",
      "F1 score for threshold :  1.0  :  0.15640109312591968\n"
     ]
    }
   ],
   "source": [
    "X_test_boost = pip_sm.transform(X_test)\n",
    "pred_prob = clf.predict_proba(X_test_boost)\n",
    "for th in range(0, 110, 10):\n",
    "    y_pred_th = (pred_prob[:,0] <= (th/100)).astype('int')\n",
    "    #print(\"accuracy for threshold : \", th/100, \" : \", accuracy_score(y_test, y_pred_th))\n",
    "    print(\"F1 score for threshold : \" ,th/100, \" : \", f1_score(y_test, y_pred_th))\n",
    "    #print(confusion_matrix(y_test, y_pred_th))\n",
    "    #print(classification_report(y_test, y_pred_th))"
   ]
  },
  {
   "cell_type": "markdown",
   "metadata": {},
   "source": [
    "#### Roughly same results with Random forest and XGBoost. There is a high imbalance in class. Undersampling resulted in underfitting and oversampling resulted in overfitting."
   ]
  },
  {
   "cell_type": "code",
   "execution_count": null,
   "metadata": {},
   "outputs": [],
   "source": []
  }
 ],
 "metadata": {
  "kernelspec": {
   "display_name": "Python 3",
   "language": "python",
   "name": "python3"
  },
  "language_info": {
   "codemirror_mode": {
    "name": "ipython",
    "version": 3
   },
   "file_extension": ".py",
   "mimetype": "text/x-python",
   "name": "python",
   "nbconvert_exporter": "python",
   "pygments_lexer": "ipython3",
   "version": "3.8.3"
  }
 },
 "nbformat": 4,
 "nbformat_minor": 4
}
