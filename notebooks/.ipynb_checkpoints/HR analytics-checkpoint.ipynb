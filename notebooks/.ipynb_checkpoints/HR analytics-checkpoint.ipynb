{
 "cells": [
  {
   "cell_type": "code",
   "execution_count": null,
   "metadata": {},
   "outputs": [],
   "source": [
    "import numpy as np\n",
    "import pandas as pd\n",
    "import seaborn as sns\n",
    "import matplotlib.pyplot as plt\n",
    "from sklearn.metrics import f1_score, confusion_matrix, classification_report\n",
    "from sklearn.impute import SimpleImputer\n",
    "from sklearn.ensemble import RandomForestClassifier\n",
    "from sklearn.metrics import accuracy_score\n",
    "import category_encoders as ce\n",
    "from sklearn.compose import ColumnTransformer\n",
    "from sklearn.pipeline import Pipeline\n",
    "from sklearn.preprocessing import StandardScaler, MinMaxScaler\n",
    "from sklearn.model_selection import train_test_split, GridSearchCV, StratifiedKFold\n",
    "from imblearn.over_sampling import RandomOverSampler, RandomOverSampler"
   ]
  },
  {
   "cell_type": "code",
   "execution_count": 1,
   "metadata": {},
   "outputs": [
    {
     "ename": "NameError",
     "evalue": "name 'pd' is not defined",
     "output_type": "error",
     "traceback": [
      "\u001b[1;31m---------------------------------------------------------------------------\u001b[0m",
      "\u001b[1;31mNameError\u001b[0m                                 Traceback (most recent call last)",
      "\u001b[1;32m<ipython-input-1-af149f70e392>\u001b[0m in \u001b[0;36m<module>\u001b[1;34m\u001b[0m\n\u001b[1;32m----> 1\u001b[1;33m \u001b[0mdf\u001b[0m \u001b[1;33m=\u001b[0m \u001b[0mpd\u001b[0m\u001b[1;33m.\u001b[0m\u001b[0mread_csv\u001b[0m\u001b[1;33m(\u001b[0m\u001b[1;34m'..\\data\\processed\\train_HR_Analytics.csv'\u001b[0m\u001b[1;33m)\u001b[0m\u001b[1;33m\u001b[0m\u001b[1;33m\u001b[0m\u001b[0m\n\u001b[0m",
      "\u001b[1;31mNameError\u001b[0m: name 'pd' is not defined"
     ]
    }
   ],
   "source": [
    "df = pd.read_csv('..\\data\\processed\\train_HR_Analytics.csv')"
   ]
  },
  {
   "cell_type": "code",
   "execution_count": 18,
   "metadata": {},
   "outputs": [
    {
     "name": "stdout",
     "output_type": "stream",
     "text": [
      "<class 'pandas.core.frame.DataFrame'>\n",
      "RangeIndex: 54808 entries, 0 to 54807\n",
      "Data columns (total 14 columns):\n",
      " #   Column                Non-Null Count  Dtype  \n",
      "---  ------                --------------  -----  \n",
      " 0   employee_id           54808 non-null  int64  \n",
      " 1   department            54808 non-null  object \n",
      " 2   region                54808 non-null  object \n",
      " 3   education             52399 non-null  object \n",
      " 4   gender                54808 non-null  object \n",
      " 5   recruitment_channel   54808 non-null  object \n",
      " 6   no_of_trainings       54808 non-null  int64  \n",
      " 7   age                   54808 non-null  int64  \n",
      " 8   previous_year_rating  50684 non-null  float64\n",
      " 9   length_of_service     54808 non-null  int64  \n",
      " 10  KPIs_met >80%         54808 non-null  int64  \n",
      " 11  awards_won?           54808 non-null  int64  \n",
      " 12  avg_training_score    54808 non-null  int64  \n",
      " 13  is_promoted           54808 non-null  int64  \n",
      "dtypes: float64(1), int64(8), object(5)\n",
      "memory usage: 5.9+ MB\n"
     ]
    }
   ],
   "source": [
    "df.info()"
   ]
  },
  {
   "cell_type": "code",
   "execution_count": 19,
   "metadata": {},
   "outputs": [
    {
     "data": {
      "text/html": [
       "<div>\n",
       "<style scoped>\n",
       "    .dataframe tbody tr th:only-of-type {\n",
       "        vertical-align: middle;\n",
       "    }\n",
       "\n",
       "    .dataframe tbody tr th {\n",
       "        vertical-align: top;\n",
       "    }\n",
       "\n",
       "    .dataframe thead th {\n",
       "        text-align: right;\n",
       "    }\n",
       "</style>\n",
       "<table border=\"1\" class=\"dataframe\">\n",
       "  <thead>\n",
       "    <tr style=\"text-align: right;\">\n",
       "      <th></th>\n",
       "      <th>employee_id</th>\n",
       "      <th>department</th>\n",
       "      <th>region</th>\n",
       "      <th>education</th>\n",
       "      <th>gender</th>\n",
       "      <th>recruitment_channel</th>\n",
       "      <th>no_of_trainings</th>\n",
       "      <th>age</th>\n",
       "      <th>previous_year_rating</th>\n",
       "      <th>length_of_service</th>\n",
       "      <th>KPIs_met &gt;80%</th>\n",
       "      <th>awards_won?</th>\n",
       "      <th>avg_training_score</th>\n",
       "      <th>is_promoted</th>\n",
       "    </tr>\n",
       "  </thead>\n",
       "  <tbody>\n",
       "    <tr>\n",
       "      <th>0</th>\n",
       "      <td>65438</td>\n",
       "      <td>Sales &amp; Marketing</td>\n",
       "      <td>region_7</td>\n",
       "      <td>Master's &amp; above</td>\n",
       "      <td>f</td>\n",
       "      <td>sourcing</td>\n",
       "      <td>1</td>\n",
       "      <td>35</td>\n",
       "      <td>5.0</td>\n",
       "      <td>8</td>\n",
       "      <td>1</td>\n",
       "      <td>0</td>\n",
       "      <td>49</td>\n",
       "      <td>0</td>\n",
       "    </tr>\n",
       "    <tr>\n",
       "      <th>1</th>\n",
       "      <td>65141</td>\n",
       "      <td>Operations</td>\n",
       "      <td>region_22</td>\n",
       "      <td>Bachelor's</td>\n",
       "      <td>m</td>\n",
       "      <td>other</td>\n",
       "      <td>1</td>\n",
       "      <td>30</td>\n",
       "      <td>5.0</td>\n",
       "      <td>4</td>\n",
       "      <td>0</td>\n",
       "      <td>0</td>\n",
       "      <td>60</td>\n",
       "      <td>0</td>\n",
       "    </tr>\n",
       "    <tr>\n",
       "      <th>2</th>\n",
       "      <td>7513</td>\n",
       "      <td>Sales &amp; Marketing</td>\n",
       "      <td>region_19</td>\n",
       "      <td>Bachelor's</td>\n",
       "      <td>m</td>\n",
       "      <td>sourcing</td>\n",
       "      <td>1</td>\n",
       "      <td>34</td>\n",
       "      <td>3.0</td>\n",
       "      <td>7</td>\n",
       "      <td>0</td>\n",
       "      <td>0</td>\n",
       "      <td>50</td>\n",
       "      <td>0</td>\n",
       "    </tr>\n",
       "    <tr>\n",
       "      <th>3</th>\n",
       "      <td>2542</td>\n",
       "      <td>Sales &amp; Marketing</td>\n",
       "      <td>region_23</td>\n",
       "      <td>Bachelor's</td>\n",
       "      <td>m</td>\n",
       "      <td>other</td>\n",
       "      <td>2</td>\n",
       "      <td>39</td>\n",
       "      <td>1.0</td>\n",
       "      <td>10</td>\n",
       "      <td>0</td>\n",
       "      <td>0</td>\n",
       "      <td>50</td>\n",
       "      <td>0</td>\n",
       "    </tr>\n",
       "    <tr>\n",
       "      <th>4</th>\n",
       "      <td>48945</td>\n",
       "      <td>Technology</td>\n",
       "      <td>region_26</td>\n",
       "      <td>Bachelor's</td>\n",
       "      <td>m</td>\n",
       "      <td>other</td>\n",
       "      <td>1</td>\n",
       "      <td>45</td>\n",
       "      <td>3.0</td>\n",
       "      <td>2</td>\n",
       "      <td>0</td>\n",
       "      <td>0</td>\n",
       "      <td>73</td>\n",
       "      <td>0</td>\n",
       "    </tr>\n",
       "  </tbody>\n",
       "</table>\n",
       "</div>"
      ],
      "text/plain": [
       "   employee_id         department     region         education gender  \\\n",
       "0        65438  Sales & Marketing   region_7  Master's & above      f   \n",
       "1        65141         Operations  region_22        Bachelor's      m   \n",
       "2         7513  Sales & Marketing  region_19        Bachelor's      m   \n",
       "3         2542  Sales & Marketing  region_23        Bachelor's      m   \n",
       "4        48945         Technology  region_26        Bachelor's      m   \n",
       "\n",
       "  recruitment_channel  no_of_trainings  age  previous_year_rating  \\\n",
       "0            sourcing                1   35                   5.0   \n",
       "1               other                1   30                   5.0   \n",
       "2            sourcing                1   34                   3.0   \n",
       "3               other                2   39                   1.0   \n",
       "4               other                1   45                   3.0   \n",
       "\n",
       "   length_of_service  KPIs_met >80%  awards_won?  avg_training_score  \\\n",
       "0                  8              1            0                  49   \n",
       "1                  4              0            0                  60   \n",
       "2                  7              0            0                  50   \n",
       "3                 10              0            0                  50   \n",
       "4                  2              0            0                  73   \n",
       "\n",
       "   is_promoted  \n",
       "0            0  \n",
       "1            0  \n",
       "2            0  \n",
       "3            0  \n",
       "4            0  "
      ]
     },
     "execution_count": 19,
     "metadata": {},
     "output_type": "execute_result"
    }
   ],
   "source": [
    "df.head()"
   ]
  },
  {
   "cell_type": "code",
   "execution_count": 20,
   "metadata": {},
   "outputs": [
    {
     "data": {
      "text/plain": [
       "0    50140\n",
       "1     4668\n",
       "Name: is_promoted, dtype: int64"
      ]
     },
     "execution_count": 20,
     "metadata": {},
     "output_type": "execute_result"
    }
   ],
   "source": [
    "df['is_promoted'].value_counts()"
   ]
  },
  {
   "cell_type": "markdown",
   "metadata": {},
   "source": [
    "### We can see that dataset is imbalanced. Only 8.5% data contains promoted class as true."
   ]
  },
  {
   "cell_type": "code",
   "execution_count": 21,
   "metadata": {},
   "outputs": [
    {
     "data": {
      "text/plain": [
       "8.517004816815064"
      ]
     },
     "execution_count": 21,
     "metadata": {},
     "output_type": "execute_result"
    }
   ],
   "source": [
    "4668/(50140 + 4668) * 100"
   ]
  },
  {
   "cell_type": "markdown",
   "metadata": {},
   "source": [
    "### check for null values"
   ]
  },
  {
   "cell_type": "code",
   "execution_count": 57,
   "metadata": {},
   "outputs": [
    {
     "data": {
      "text/plain": [
       "department                 0\n",
       "region                     0\n",
       "education               2409\n",
       "gender                     0\n",
       "recruitment_channel        0\n",
       "no_of_trainings            0\n",
       "age                        0\n",
       "previous_year_rating    4124\n",
       "length_of_service          0\n",
       "KPIs_met >80%              0\n",
       "awards_won?                0\n",
       "avg_training_score         0\n",
       "is_promoted                0\n",
       "dtype: int64"
      ]
     },
     "execution_count": 57,
     "metadata": {},
     "output_type": "execute_result"
    }
   ],
   "source": [
    "null_series = df.isnull().sum()\n",
    "df.isnull().sum()"
   ]
  },
  {
   "cell_type": "code",
   "execution_count": 59,
   "metadata": {},
   "outputs": [
    {
     "data": {
      "text/plain": [
       "Index(['education', 'previous_year_rating'], dtype='object')"
      ]
     },
     "execution_count": 59,
     "metadata": {},
     "output_type": "execute_result"
    }
   ],
   "source": [
    "\n",
    "null_cols = null_series[null_series > 0].index\n",
    "null_cols"
   ]
  },
  {
   "cell_type": "code",
   "execution_count": null,
   "metadata": {},
   "outputs": [],
   "source": []
  },
  {
   "cell_type": "code",
   "execution_count": 23,
   "metadata": {},
   "outputs": [
    {
     "data": {
      "text/plain": [
       "Bachelor's          36669\n",
       "Master's & above    14925\n",
       "Below Secondary       805\n",
       "Name: education, dtype: int64"
      ]
     },
     "execution_count": 23,
     "metadata": {},
     "output_type": "execute_result"
    }
   ],
   "source": [
    "df['education'].value_counts()"
   ]
  },
  {
   "cell_type": "code",
   "execution_count": 24,
   "metadata": {},
   "outputs": [
    {
     "data": {
      "text/plain": [
       "3.0    18618\n",
       "5.0    11741\n",
       "4.0     9877\n",
       "1.0     6223\n",
       "2.0     4225\n",
       "Name: previous_year_rating, dtype: int64"
      ]
     },
     "execution_count": 24,
     "metadata": {},
     "output_type": "execute_result"
    }
   ],
   "source": [
    "df['previous_year_rating'].value_counts()"
   ]
  },
  {
   "cell_type": "code",
   "execution_count": 139,
   "metadata": {},
   "outputs": [
    {
     "data": {
      "text/plain": [
       "other       30446\n",
       "sourcing    23220\n",
       "referred     1142\n",
       "Name: recruitment_channel, dtype: int64"
      ]
     },
     "execution_count": 139,
     "metadata": {},
     "output_type": "execute_result"
    }
   ],
   "source": [
    "df['recruitment_channel'].value_counts()"
   ]
  },
  {
   "cell_type": "code",
   "execution_count": 41,
   "metadata": {},
   "outputs": [
    {
     "data": {
      "image/png": "[encoded data removed]",
      "text/plain": [
       "<Figure size 1080x720 with 2 Axes>"
      ]
     },
     "metadata": {
      "needs_background": "light"
     },
     "output_type": "display_data"
    }
   ],
   "source": [
    "fig = plt.gcf()\n",
    "fig.set_size_inches(15,10)\n",
    "sns.heatmap(df.corr(), annot=True)\n",
    "plt.show()"
   ]
  },
  {
   "cell_type": "markdown",
   "metadata": {},
   "source": [
    "### Average training score, KPI met, awards won has more relation with promotion."
   ]
  },
  {
   "cell_type": "code",
   "execution_count": 42,
   "metadata": {},
   "outputs": [
    {
     "data": {
      "text/html": [
       "<div>\n",
       "<style scoped>\n",
       "    .dataframe tbody tr th:only-of-type {\n",
       "        vertical-align: middle;\n",
       "    }\n",
       "\n",
       "    .dataframe tbody tr th {\n",
       "        vertical-align: top;\n",
       "    }\n",
       "\n",
       "    .dataframe thead th {\n",
       "        text-align: right;\n",
       "    }\n",
       "</style>\n",
       "<table border=\"1\" class=\"dataframe\">\n",
       "  <thead>\n",
       "    <tr style=\"text-align: right;\">\n",
       "      <th></th>\n",
       "      <th>no_of_trainings</th>\n",
       "      <th>age</th>\n",
       "      <th>previous_year_rating</th>\n",
       "      <th>length_of_service</th>\n",
       "      <th>KPIs_met &gt;80%</th>\n",
       "      <th>awards_won?</th>\n",
       "      <th>avg_training_score</th>\n",
       "      <th>is_promoted</th>\n",
       "    </tr>\n",
       "  </thead>\n",
       "  <tbody>\n",
       "    <tr>\n",
       "      <th>count</th>\n",
       "      <td>54808.000000</td>\n",
       "      <td>54808.000000</td>\n",
       "      <td>50684.000000</td>\n",
       "      <td>54808.000000</td>\n",
       "      <td>54808.000000</td>\n",
       "      <td>54808.000000</td>\n",
       "      <td>54808.000000</td>\n",
       "      <td>54808.000000</td>\n",
       "    </tr>\n",
       "    <tr>\n",
       "      <th>mean</th>\n",
       "      <td>1.253011</td>\n",
       "      <td>34.803915</td>\n",
       "      <td>3.329256</td>\n",
       "      <td>5.865512</td>\n",
       "      <td>0.351974</td>\n",
       "      <td>0.023172</td>\n",
       "      <td>63.386750</td>\n",
       "      <td>0.085170</td>\n",
       "    </tr>\n",
       "    <tr>\n",
       "      <th>std</th>\n",
       "      <td>0.609264</td>\n",
       "      <td>7.660169</td>\n",
       "      <td>1.259993</td>\n",
       "      <td>4.265094</td>\n",
       "      <td>0.477590</td>\n",
       "      <td>0.150450</td>\n",
       "      <td>13.371559</td>\n",
       "      <td>0.279137</td>\n",
       "    </tr>\n",
       "    <tr>\n",
       "      <th>min</th>\n",
       "      <td>1.000000</td>\n",
       "      <td>20.000000</td>\n",
       "      <td>1.000000</td>\n",
       "      <td>1.000000</td>\n",
       "      <td>0.000000</td>\n",
       "      <td>0.000000</td>\n",
       "      <td>39.000000</td>\n",
       "      <td>0.000000</td>\n",
       "    </tr>\n",
       "    <tr>\n",
       "      <th>25%</th>\n",
       "      <td>1.000000</td>\n",
       "      <td>29.000000</td>\n",
       "      <td>3.000000</td>\n",
       "      <td>3.000000</td>\n",
       "      <td>0.000000</td>\n",
       "      <td>0.000000</td>\n",
       "      <td>51.000000</td>\n",
       "      <td>0.000000</td>\n",
       "    </tr>\n",
       "    <tr>\n",
       "      <th>50%</th>\n",
       "      <td>1.000000</td>\n",
       "      <td>33.000000</td>\n",
       "      <td>3.000000</td>\n",
       "      <td>5.000000</td>\n",
       "      <td>0.000000</td>\n",
       "      <td>0.000000</td>\n",
       "      <td>60.000000</td>\n",
       "      <td>0.000000</td>\n",
       "    </tr>\n",
       "    <tr>\n",
       "      <th>75%</th>\n",
       "      <td>1.000000</td>\n",
       "      <td>39.000000</td>\n",
       "      <td>4.000000</td>\n",
       "      <td>7.000000</td>\n",
       "      <td>1.000000</td>\n",
       "      <td>0.000000</td>\n",
       "      <td>76.000000</td>\n",
       "      <td>0.000000</td>\n",
       "    </tr>\n",
       "    <tr>\n",
       "      <th>max</th>\n",
       "      <td>10.000000</td>\n",
       "      <td>60.000000</td>\n",
       "      <td>5.000000</td>\n",
       "      <td>37.000000</td>\n",
       "      <td>1.000000</td>\n",
       "      <td>1.000000</td>\n",
       "      <td>99.000000</td>\n",
       "      <td>1.000000</td>\n",
       "    </tr>\n",
       "  </tbody>\n",
       "</table>\n",
       "</div>"
      ],
      "text/plain": [
       "       no_of_trainings           age  previous_year_rating  length_of_service  \\\n",
       "count     54808.000000  54808.000000          50684.000000       54808.000000   \n",
       "mean          1.253011     34.803915              3.329256           5.865512   \n",
       "std           0.609264      7.660169              1.259993           4.265094   \n",
       "min           1.000000     20.000000              1.000000           1.000000   \n",
       "25%           1.000000     29.000000              3.000000           3.000000   \n",
       "50%           1.000000     33.000000              3.000000           5.000000   \n",
       "75%           1.000000     39.000000              4.000000           7.000000   \n",
       "max          10.000000     60.000000              5.000000          37.000000   \n",
       "\n",
       "       KPIs_met >80%   awards_won?  avg_training_score   is_promoted  \n",
       "count   54808.000000  54808.000000        54808.000000  54808.000000  \n",
       "mean        0.351974      0.023172           63.386750      0.085170  \n",
       "std         0.477590      0.150450           13.371559      0.279137  \n",
       "min         0.000000      0.000000           39.000000      0.000000  \n",
       "25%         0.000000      0.000000           51.000000      0.000000  \n",
       "50%         0.000000      0.000000           60.000000      0.000000  \n",
       "75%         1.000000      0.000000           76.000000      0.000000  \n",
       "max         1.000000      1.000000           99.000000      1.000000  "
      ]
     },
     "execution_count": 42,
     "metadata": {},
     "output_type": "execute_result"
    }
   ],
   "source": [
    "df.describe()"
   ]
  },
  {
   "cell_type": "code",
   "execution_count": 91,
   "metadata": {},
   "outputs": [],
   "source": [
    "cat_features = []\n",
    "num_features = []\n",
    "for col in df.columns:\n",
    "    if (df[col].dtype =='O'):\n",
    "        cat_features.append(col)\n",
    "    else:\n",
    "        if (df[col].unique().size > 10):\n",
    "            num_features.append(col)\n",
    "        else:\n",
    "            cat_features.append(col)"
   ]
  },
  {
   "cell_type": "code",
   "execution_count": 92,
   "metadata": {},
   "outputs": [
    {
     "data": {
      "text/plain": [
       "['department',\n",
       " 'region',\n",
       " 'education',\n",
       " 'gender',\n",
       " 'recruitment_channel',\n",
       " 'no_of_trainings',\n",
       " 'previous_year_rating',\n",
       " 'KPIs_met >80%',\n",
       " 'awards_won?',\n",
       " 'is_promoted']"
      ]
     },
     "execution_count": 92,
     "metadata": {},
     "output_type": "execute_result"
    }
   ],
   "source": [
    "cat_features"
   ]
  },
  {
   "cell_type": "code",
   "execution_count": 93,
   "metadata": {},
   "outputs": [
    {
     "data": {
      "image/png": "[encoded data removed]",
      "text/plain": [
       "<Figure size 432x288 with 1 Axes>"
      ]
     },
     "metadata": {
      "needs_background": "light"
     },
     "output_type": "display_data"
    },
    {
     "data": {
      "image/png": "[encoded data removed]",
      "text/plain": [
       "<Figure size 432x288 with 1 Axes>"
      ]
     },
     "metadata": {
      "needs_background": "light"
     },
     "output_type": "display_data"
    },
    {
     "data": {
      "image/png": "[encoded data removed]",
      "text/plain": [
       "<Figure size 432x288 with 1 Axes>"
      ]
     },
     "metadata": {
      "needs_background": "light"
     },
     "output_type": "display_data"
    },
    {
     "data": {
      "image/png": "[encoded data removed]",
      "text/plain": [
       "<Figure size 432x288 with 1 Axes>"
      ]
     },
     "metadata": {
      "needs_background": "light"
     },
     "output_type": "display_data"
    }
   ],
   "source": [
    "for col in num_features:\n",
    "    sns.kdeplot(df[col])\n",
    "    plt.show()"
   ]
  },
  {
   "cell_type": "code",
   "execution_count": 387,
   "metadata": {},
   "outputs": [
    {
     "data": {
      "text/plain": [
       "array(['length_of_service'], dtype=object)"
      ]
     },
     "execution_count": 387,
     "metadata": {},
     "output_type": "execute_result"
    }
   ],
   "source": [
    "skew_data = df[num_features].skew(axis = 0, skipna = True)\n",
    "asa = []\n",
    "asa = skew_data[skew_data > 1.1].index.values\n",
    "asa"
   ]
  },
  {
   "cell_type": "markdown",
   "metadata": {},
   "source": [
    "### We can see length of service has large skewness. So we can try log transformation on it."
   ]
  },
  {
   "cell_type": "code",
   "execution_count": 109,
   "metadata": {},
   "outputs": [
    {
     "data": {
      "text/html": [
       "<div>\n",
       "<style scoped>\n",
       "    .dataframe tbody tr th:only-of-type {\n",
       "        vertical-align: middle;\n",
       "    }\n",
       "\n",
       "    .dataframe tbody tr th {\n",
       "        vertical-align: top;\n",
       "    }\n",
       "\n",
       "    .dataframe thead th {\n",
       "        text-align: right;\n",
       "    }\n",
       "</style>\n",
       "<table border=\"1\" class=\"dataframe\">\n",
       "  <thead>\n",
       "    <tr style=\"text-align: right;\">\n",
       "      <th></th>\n",
       "      <th>employee_id</th>\n",
       "      <th>department</th>\n",
       "      <th>region</th>\n",
       "      <th>education</th>\n",
       "      <th>gender</th>\n",
       "      <th>recruitment_channel</th>\n",
       "      <th>no_of_trainings</th>\n",
       "      <th>age</th>\n",
       "      <th>previous_year_rating</th>\n",
       "      <th>length_of_service</th>\n",
       "      <th>KPIs_met &gt;80%</th>\n",
       "      <th>awards_won?</th>\n",
       "      <th>avg_training_score</th>\n",
       "      <th>is_promoted</th>\n",
       "    </tr>\n",
       "  </thead>\n",
       "  <tbody>\n",
       "  </tbody>\n",
       "</table>\n",
       "</div>"
      ],
      "text/plain": [
       "Empty DataFrame\n",
       "Columns: [employee_id, department, region, education, gender, recruitment_channel, no_of_trainings, age, previous_year_rating, length_of_service, KPIs_met >80%, awards_won?, avg_training_score, is_promoted]\n",
       "Index: []"
      ]
     },
     "execution_count": 109,
     "metadata": {},
     "output_type": "execute_result"
    }
   ],
   "source": [
    "# checking if lenght of service has any values less than 1.\n",
    "df[df['length_of_service'] < 1]"
   ]
  },
  {
   "cell_type": "code",
   "execution_count": 110,
   "metadata": {},
   "outputs": [],
   "source": [
    "df['log_length_of_service'] = np.log(df['length_of_service'])"
   ]
  },
  {
   "cell_type": "code",
   "execution_count": 111,
   "metadata": {},
   "outputs": [
    {
     "data": {
      "text/plain": [
       "-0.28990179567467633"
      ]
     },
     "execution_count": 111,
     "metadata": {},
     "output_type": "execute_result"
    }
   ],
   "source": [
    "df['log_length_of_service'].skew(axis = 0, skipna = True)"
   ]
  },
  {
   "cell_type": "code",
   "execution_count": 115,
   "metadata": {},
   "outputs": [],
   "source": [
    "\n",
    "df_new = df.copy()"
   ]
  },
  {
   "cell_type": "markdown",
   "metadata": {},
   "source": [
    "### Calculating new features that can give better results.\n",
    "### *. Calculating average training score and KPI group by region and department."
   ]
  },
  {
   "cell_type": "code",
   "execution_count": 119,
   "metadata": {},
   "outputs": [],
   "source": [
    "df_region_depart_mean_train_score = df_new.groupby(['region', 'department'])['avg_training_score'].agg('mean').unstack()"
   ]
  },
  {
   "cell_type": "code",
   "execution_count": 120,
   "metadata": {},
   "outputs": [
    {
     "data": {
      "text/html": [
       "<div>\n",
       "<style scoped>\n",
       "    .dataframe tbody tr th:only-of-type {\n",
       "        vertical-align: middle;\n",
       "    }\n",
       "\n",
       "    .dataframe tbody tr th {\n",
       "        vertical-align: top;\n",
       "    }\n",
       "\n",
       "    .dataframe thead th {\n",
       "        text-align: right;\n",
       "    }\n",
       "</style>\n",
       "<table border=\"1\" class=\"dataframe\">\n",
       "  <thead>\n",
       "    <tr style=\"text-align: right;\">\n",
       "      <th>department</th>\n",
       "      <th>Analytics</th>\n",
       "      <th>Finance</th>\n",
       "      <th>HR</th>\n",
       "      <th>Legal</th>\n",
       "      <th>Operations</th>\n",
       "      <th>Procurement</th>\n",
       "      <th>R&amp;D</th>\n",
       "      <th>Sales &amp; Marketing</th>\n",
       "      <th>Technology</th>\n",
       "    </tr>\n",
       "    <tr>\n",
       "      <th>region</th>\n",
       "      <th></th>\n",
       "      <th></th>\n",
       "      <th></th>\n",
       "      <th></th>\n",
       "      <th></th>\n",
       "      <th></th>\n",
       "      <th></th>\n",
       "      <th></th>\n",
       "      <th></th>\n",
       "    </tr>\n",
       "  </thead>\n",
       "  <tbody>\n",
       "    <tr>\n",
       "      <th>region_1</th>\n",
       "      <td>84.855263</td>\n",
       "      <td>59.285714</td>\n",
       "      <td>55.428571</td>\n",
       "      <td>63.000000</td>\n",
       "      <td>60.000000</td>\n",
       "      <td>69.833333</td>\n",
       "      <td>NaN</td>\n",
       "      <td>51.079019</td>\n",
       "      <td>79.671233</td>\n",
       "    </tr>\n",
       "    <tr>\n",
       "      <th>region_10</th>\n",
       "      <td>85.076923</td>\n",
       "      <td>59.615385</td>\n",
       "      <td>50.533333</td>\n",
       "      <td>NaN</td>\n",
       "      <td>59.528736</td>\n",
       "      <td>70.203947</td>\n",
       "      <td>87.500000</td>\n",
       "      <td>50.051064</td>\n",
       "      <td>80.084746</td>\n",
       "    </tr>\n",
       "    <tr>\n",
       "      <th>region_11</th>\n",
       "      <td>84.546875</td>\n",
       "      <td>60.140351</td>\n",
       "      <td>49.414634</td>\n",
       "      <td>59.181818</td>\n",
       "      <td>59.950178</td>\n",
       "      <td>69.965517</td>\n",
       "      <td>83.553191</td>\n",
       "      <td>49.777778</td>\n",
       "      <td>79.543046</td>\n",
       "    </tr>\n",
       "    <tr>\n",
       "      <th>region_12</th>\n",
       "      <td>84.756757</td>\n",
       "      <td>59.500000</td>\n",
       "      <td>50.444444</td>\n",
       "      <td>61.750000</td>\n",
       "      <td>60.209150</td>\n",
       "      <td>70.548387</td>\n",
       "      <td>83.500000</td>\n",
       "      <td>50.949438</td>\n",
       "      <td>79.729730</td>\n",
       "    </tr>\n",
       "    <tr>\n",
       "      <th>region_13</th>\n",
       "      <td>84.601504</td>\n",
       "      <td>60.586207</td>\n",
       "      <td>49.457831</td>\n",
       "      <td>59.343750</td>\n",
       "      <td>60.192593</td>\n",
       "      <td>70.152941</td>\n",
       "      <td>85.307692</td>\n",
       "      <td>50.462622</td>\n",
       "      <td>79.937343</td>\n",
       "    </tr>\n",
       "    <tr>\n",
       "      <th>region_14</th>\n",
       "      <td>84.770833</td>\n",
       "      <td>59.652174</td>\n",
       "      <td>50.500000</td>\n",
       "      <td>NaN</td>\n",
       "      <td>59.625000</td>\n",
       "      <td>70.305085</td>\n",
       "      <td>86.500000</td>\n",
       "      <td>50.492212</td>\n",
       "      <td>79.710280</td>\n",
       "    </tr>\n",
       "    <tr>\n",
       "      <th>region_15</th>\n",
       "      <td>84.611111</td>\n",
       "      <td>59.394737</td>\n",
       "      <td>50.134328</td>\n",
       "      <td>61.000000</td>\n",
       "      <td>60.275648</td>\n",
       "      <td>70.327778</td>\n",
       "      <td>85.032258</td>\n",
       "      <td>49.865155</td>\n",
       "      <td>80.639269</td>\n",
       "    </tr>\n",
       "    <tr>\n",
       "      <th>region_16</th>\n",
       "      <td>84.186441</td>\n",
       "      <td>60.148148</td>\n",
       "      <td>49.243243</td>\n",
       "      <td>60.090909</td>\n",
       "      <td>60.462585</td>\n",
       "      <td>69.428571</td>\n",
       "      <td>84.300000</td>\n",
       "      <td>50.132867</td>\n",
       "      <td>80.087302</td>\n",
       "    </tr>\n",
       "    <tr>\n",
       "      <th>region_17</th>\n",
       "      <td>83.846154</td>\n",
       "      <td>61.000000</td>\n",
       "      <td>48.736842</td>\n",
       "      <td>60.333333</td>\n",
       "      <td>60.836957</td>\n",
       "      <td>70.361032</td>\n",
       "      <td>83.000000</td>\n",
       "      <td>49.875676</td>\n",
       "      <td>80.319328</td>\n",
       "    </tr>\n",
       "    <tr>\n",
       "      <th>region_18</th>\n",
       "      <td>NaN</td>\n",
       "      <td>NaN</td>\n",
       "      <td>NaN</td>\n",
       "      <td>NaN</td>\n",
       "      <td>61.000000</td>\n",
       "      <td>NaN</td>\n",
       "      <td>NaN</td>\n",
       "      <td>50.035714</td>\n",
       "      <td>NaN</td>\n",
       "    </tr>\n",
       "    <tr>\n",
       "      <th>region_19</th>\n",
       "      <td>84.803030</td>\n",
       "      <td>60.800000</td>\n",
       "      <td>51.333333</td>\n",
       "      <td>59.000000</td>\n",
       "      <td>59.887052</td>\n",
       "      <td>70.470588</td>\n",
       "      <td>86.750000</td>\n",
       "      <td>50.133829</td>\n",
       "      <td>80.133333</td>\n",
       "    </tr>\n",
       "    <tr>\n",
       "      <th>region_2</th>\n",
       "      <td>84.679095</td>\n",
       "      <td>59.807506</td>\n",
       "      <td>49.903720</td>\n",
       "      <td>59.585831</td>\n",
       "      <td>60.269573</td>\n",
       "      <td>70.263441</td>\n",
       "      <td>85.092308</td>\n",
       "      <td>50.481459</td>\n",
       "      <td>79.770798</td>\n",
       "    </tr>\n",
       "    <tr>\n",
       "      <th>region_20</th>\n",
       "      <td>84.211111</td>\n",
       "      <td>61.440000</td>\n",
       "      <td>49.661538</td>\n",
       "      <td>60.050000</td>\n",
       "      <td>59.676136</td>\n",
       "      <td>70.522936</td>\n",
       "      <td>80.750000</td>\n",
       "      <td>49.443636</td>\n",
       "      <td>79.744186</td>\n",
       "    </tr>\n",
       "    <tr>\n",
       "      <th>region_21</th>\n",
       "      <td>84.829787</td>\n",
       "      <td>58.333333</td>\n",
       "      <td>49.600000</td>\n",
       "      <td>62.000000</td>\n",
       "      <td>59.721739</td>\n",
       "      <td>69.551020</td>\n",
       "      <td>86.666667</td>\n",
       "      <td>49.240000</td>\n",
       "      <td>79.228571</td>\n",
       "    </tr>\n",
       "    <tr>\n",
       "      <th>region_22</th>\n",
       "      <td>84.690305</td>\n",
       "      <td>60.594030</td>\n",
       "      <td>50.318182</td>\n",
       "      <td>60.008584</td>\n",
       "      <td>60.437257</td>\n",
       "      <td>70.094276</td>\n",
       "      <td>84.496212</td>\n",
       "      <td>50.472023</td>\n",
       "      <td>79.851133</td>\n",
       "    </tr>\n",
       "    <tr>\n",
       "      <th>region_23</th>\n",
       "      <td>84.389474</td>\n",
       "      <td>61.758621</td>\n",
       "      <td>49.276596</td>\n",
       "      <td>60.400000</td>\n",
       "      <td>60.424528</td>\n",
       "      <td>70.374233</td>\n",
       "      <td>85.363636</td>\n",
       "      <td>50.402667</td>\n",
       "      <td>80.004202</td>\n",
       "    </tr>\n",
       "    <tr>\n",
       "      <th>region_24</th>\n",
       "      <td>83.611111</td>\n",
       "      <td>60.000000</td>\n",
       "      <td>49.230769</td>\n",
       "      <td>59.375000</td>\n",
       "      <td>59.804598</td>\n",
       "      <td>69.112500</td>\n",
       "      <td>87.666667</td>\n",
       "      <td>49.577922</td>\n",
       "      <td>79.853659</td>\n",
       "    </tr>\n",
       "    <tr>\n",
       "      <th>region_25</th>\n",
       "      <td>84.748387</td>\n",
       "      <td>60.944444</td>\n",
       "      <td>49.941176</td>\n",
       "      <td>59.500000</td>\n",
       "      <td>59.733333</td>\n",
       "      <td>69.954545</td>\n",
       "      <td>84.777778</td>\n",
       "      <td>50.547030</td>\n",
       "      <td>79.609195</td>\n",
       "    </tr>\n",
       "    <tr>\n",
       "      <th>region_26</th>\n",
       "      <td>84.280488</td>\n",
       "      <td>59.782895</td>\n",
       "      <td>50.406593</td>\n",
       "      <td>59.575000</td>\n",
       "      <td>59.797980</td>\n",
       "      <td>69.968992</td>\n",
       "      <td>84.577778</td>\n",
       "      <td>50.091362</td>\n",
       "      <td>80.002597</td>\n",
       "    </tr>\n",
       "    <tr>\n",
       "      <th>region_27</th>\n",
       "      <td>84.216418</td>\n",
       "      <td>59.746269</td>\n",
       "      <td>50.283019</td>\n",
       "      <td>60.038462</td>\n",
       "      <td>60.086614</td>\n",
       "      <td>70.077720</td>\n",
       "      <td>84.760000</td>\n",
       "      <td>50.443320</td>\n",
       "      <td>79.973077</td>\n",
       "    </tr>\n",
       "    <tr>\n",
       "      <th>region_28</th>\n",
       "      <td>85.004016</td>\n",
       "      <td>60.842105</td>\n",
       "      <td>49.936170</td>\n",
       "      <td>57.000000</td>\n",
       "      <td>59.717949</td>\n",
       "      <td>69.224490</td>\n",
       "      <td>84.833333</td>\n",
       "      <td>50.625571</td>\n",
       "      <td>79.968750</td>\n",
       "    </tr>\n",
       "    <tr>\n",
       "      <th>region_29</th>\n",
       "      <td>84.781746</td>\n",
       "      <td>59.534884</td>\n",
       "      <td>50.451613</td>\n",
       "      <td>60.200000</td>\n",
       "      <td>59.837004</td>\n",
       "      <td>69.386667</td>\n",
       "      <td>84.772727</td>\n",
       "      <td>49.661654</td>\n",
       "      <td>79.441176</td>\n",
       "    </tr>\n",
       "    <tr>\n",
       "      <th>region_3</th>\n",
       "      <td>83.785714</td>\n",
       "      <td>64.000000</td>\n",
       "      <td>52.058824</td>\n",
       "      <td>60.000000</td>\n",
       "      <td>60.924051</td>\n",
       "      <td>69.142857</td>\n",
       "      <td>82.500000</td>\n",
       "      <td>50.391534</td>\n",
       "      <td>81.437500</td>\n",
       "    </tr>\n",
       "    <tr>\n",
       "      <th>region_30</th>\n",
       "      <td>84.634921</td>\n",
       "      <td>62.050847</td>\n",
       "      <td>50.875000</td>\n",
       "      <td>60.000000</td>\n",
       "      <td>60.471545</td>\n",
       "      <td>70.538462</td>\n",
       "      <td>86.600000</td>\n",
       "      <td>49.900000</td>\n",
       "      <td>79.982456</td>\n",
       "    </tr>\n",
       "    <tr>\n",
       "      <th>region_31</th>\n",
       "      <td>84.488550</td>\n",
       "      <td>59.870130</td>\n",
       "      <td>49.864865</td>\n",
       "      <td>60.484848</td>\n",
       "      <td>59.915865</td>\n",
       "      <td>69.750000</td>\n",
       "      <td>84.400000</td>\n",
       "      <td>49.725522</td>\n",
       "      <td>80.236607</td>\n",
       "    </tr>\n",
       "    <tr>\n",
       "      <th>region_32</th>\n",
       "      <td>84.703125</td>\n",
       "      <td>59.265625</td>\n",
       "      <td>49.646154</td>\n",
       "      <td>60.000000</td>\n",
       "      <td>60.250883</td>\n",
       "      <td>70.538462</td>\n",
       "      <td>84.300000</td>\n",
       "      <td>49.792254</td>\n",
       "      <td>81.041667</td>\n",
       "    </tr>\n",
       "    <tr>\n",
       "      <th>region_33</th>\n",
       "      <td>85.000000</td>\n",
       "      <td>63.000000</td>\n",
       "      <td>48.500000</td>\n",
       "      <td>NaN</td>\n",
       "      <td>58.652174</td>\n",
       "      <td>69.961538</td>\n",
       "      <td>NaN</td>\n",
       "      <td>49.389610</td>\n",
       "      <td>79.632353</td>\n",
       "    </tr>\n",
       "    <tr>\n",
       "      <th>region_34</th>\n",
       "      <td>84.936170</td>\n",
       "      <td>60.500000</td>\n",
       "      <td>49.500000</td>\n",
       "      <td>59.625000</td>\n",
       "      <td>59.850746</td>\n",
       "      <td>70.297297</td>\n",
       "      <td>NaN</td>\n",
       "      <td>50.095238</td>\n",
       "      <td>79.222222</td>\n",
       "    </tr>\n",
       "    <tr>\n",
       "      <th>region_4</th>\n",
       "      <td>84.237037</td>\n",
       "      <td>61.080000</td>\n",
       "      <td>50.717391</td>\n",
       "      <td>59.545455</td>\n",
       "      <td>61.292735</td>\n",
       "      <td>69.623037</td>\n",
       "      <td>83.911765</td>\n",
       "      <td>50.289377</td>\n",
       "      <td>80.065217</td>\n",
       "    </tr>\n",
       "    <tr>\n",
       "      <th>region_5</th>\n",
       "      <td>84.265306</td>\n",
       "      <td>59.909091</td>\n",
       "      <td>52.416667</td>\n",
       "      <td>60.055556</td>\n",
       "      <td>60.210526</td>\n",
       "      <td>69.537313</td>\n",
       "      <td>86.000000</td>\n",
       "      <td>49.950226</td>\n",
       "      <td>79.823770</td>\n",
       "    </tr>\n",
       "    <tr>\n",
       "      <th>region_6</th>\n",
       "      <td>84.000000</td>\n",
       "      <td>60.022727</td>\n",
       "      <td>50.666667</td>\n",
       "      <td>59.000000</td>\n",
       "      <td>60.025000</td>\n",
       "      <td>69.298246</td>\n",
       "      <td>81.500000</td>\n",
       "      <td>49.988806</td>\n",
       "      <td>79.685393</td>\n",
       "    </tr>\n",
       "    <tr>\n",
       "      <th>region_7</th>\n",
       "      <td>84.593830</td>\n",
       "      <td>60.750000</td>\n",
       "      <td>50.000000</td>\n",
       "      <td>60.300000</td>\n",
       "      <td>60.281674</td>\n",
       "      <td>70.167905</td>\n",
       "      <td>84.319149</td>\n",
       "      <td>50.331020</td>\n",
       "      <td>80.147643</td>\n",
       "    </tr>\n",
       "    <tr>\n",
       "      <th>region_8</th>\n",
       "      <td>84.395833</td>\n",
       "      <td>62.052632</td>\n",
       "      <td>50.500000</td>\n",
       "      <td>57.000000</td>\n",
       "      <td>60.129707</td>\n",
       "      <td>70.570175</td>\n",
       "      <td>84.882353</td>\n",
       "      <td>50.270270</td>\n",
       "      <td>79.678571</td>\n",
       "    </tr>\n",
       "    <tr>\n",
       "      <th>region_9</th>\n",
       "      <td>84.674699</td>\n",
       "      <td>60.777778</td>\n",
       "      <td>NaN</td>\n",
       "      <td>61.666667</td>\n",
       "      <td>59.794118</td>\n",
       "      <td>69.466667</td>\n",
       "      <td>82.000000</td>\n",
       "      <td>50.057613</td>\n",
       "      <td>80.031250</td>\n",
       "    </tr>\n",
       "  </tbody>\n",
       "</table>\n",
       "</div>"
      ],
      "text/plain": [
       "department  Analytics    Finance         HR      Legal  Operations  \\\n",
       "region                                                               \n",
       "region_1    84.855263  59.285714  55.428571  63.000000   60.000000   \n",
       "region_10   85.076923  59.615385  50.533333        NaN   59.528736   \n",
       "region_11   84.546875  60.140351  49.414634  59.181818   59.950178   \n",
       "region_12   84.756757  59.500000  50.444444  61.750000   60.209150   \n",
       "region_13   84.601504  60.586207  49.457831  59.343750   60.192593   \n",
       "region_14   84.770833  59.652174  50.500000        NaN   59.625000   \n",
       "region_15   84.611111  59.394737  50.134328  61.000000   60.275648   \n",
       "region_16   84.186441  60.148148  49.243243  60.090909   60.462585   \n",
       "region_17   83.846154  61.000000  48.736842  60.333333   60.836957   \n",
       "region_18         NaN        NaN        NaN        NaN   61.000000   \n",
       "region_19   84.803030  60.800000  51.333333  59.000000   59.887052   \n",
       "region_2    84.679095  59.807506  49.903720  59.585831   60.269573   \n",
       "region_20   84.211111  61.440000  49.661538  60.050000   59.676136   \n",
       "region_21   84.829787  58.333333  49.600000  62.000000   59.721739   \n",
       "region_22   84.690305  60.594030  50.318182  60.008584   60.437257   \n",
       "region_23   84.389474  61.758621  49.276596  60.400000   60.424528   \n",
       "region_24   83.611111  60.000000  49.230769  59.375000   59.804598   \n",
       "region_25   84.748387  60.944444  49.941176  59.500000   59.733333   \n",
       "region_26   84.280488  59.782895  50.406593  59.575000   59.797980   \n",
       "region_27   84.216418  59.746269  50.283019  60.038462   60.086614   \n",
       "region_28   85.004016  60.842105  49.936170  57.000000   59.717949   \n",
       "region_29   84.781746  59.534884  50.451613  60.200000   59.837004   \n",
       "region_3    83.785714  64.000000  52.058824  60.000000   60.924051   \n",
       "region_30   84.634921  62.050847  50.875000  60.000000   60.471545   \n",
       "region_31   84.488550  59.870130  49.864865  60.484848   59.915865   \n",
       "region_32   84.703125  59.265625  49.646154  60.000000   60.250883   \n",
       "region_33   85.000000  63.000000  48.500000        NaN   58.652174   \n",
       "region_34   84.936170  60.500000  49.500000  59.625000   59.850746   \n",
       "region_4    84.237037  61.080000  50.717391  59.545455   61.292735   \n",
       "region_5    84.265306  59.909091  52.416667  60.055556   60.210526   \n",
       "region_6    84.000000  60.022727  50.666667  59.000000   60.025000   \n",
       "region_7    84.593830  60.750000  50.000000  60.300000   60.281674   \n",
       "region_8    84.395833  62.052632  50.500000  57.000000   60.129707   \n",
       "region_9    84.674699  60.777778        NaN  61.666667   59.794118   \n",
       "\n",
       "department  Procurement        R&D  Sales & Marketing  Technology  \n",
       "region                                                             \n",
       "region_1      69.833333        NaN          51.079019   79.671233  \n",
       "region_10     70.203947  87.500000          50.051064   80.084746  \n",
       "region_11     69.965517  83.553191          49.777778   79.543046  \n",
       "region_12     70.548387  83.500000          50.949438   79.729730  \n",
       "region_13     70.152941  85.307692          50.462622   79.937343  \n",
       "region_14     70.305085  86.500000          50.492212   79.710280  \n",
       "region_15     70.327778  85.032258          49.865155   80.639269  \n",
       "region_16     69.428571  84.300000          50.132867   80.087302  \n",
       "region_17     70.361032  83.000000          49.875676   80.319328  \n",
       "region_18           NaN        NaN          50.035714         NaN  \n",
       "region_19     70.470588  86.750000          50.133829   80.133333  \n",
       "region_2      70.263441  85.092308          50.481459   79.770798  \n",
       "region_20     70.522936  80.750000          49.443636   79.744186  \n",
       "region_21     69.551020  86.666667          49.240000   79.228571  \n",
       "region_22     70.094276  84.496212          50.472023   79.851133  \n",
       "region_23     70.374233  85.363636          50.402667   80.004202  \n",
       "region_24     69.112500  87.666667          49.577922   79.853659  \n",
       "region_25     69.954545  84.777778          50.547030   79.609195  \n",
       "region_26     69.968992  84.577778          50.091362   80.002597  \n",
       "region_27     70.077720  84.760000          50.443320   79.973077  \n",
       "region_28     69.224490  84.833333          50.625571   79.968750  \n",
       "region_29     69.386667  84.772727          49.661654   79.441176  \n",
       "region_3      69.142857  82.500000          50.391534   81.437500  \n",
       "region_30     70.538462  86.600000          49.900000   79.982456  \n",
       "region_31     69.750000  84.400000          49.725522   80.236607  \n",
       "region_32     70.538462  84.300000          49.792254   81.041667  \n",
       "region_33     69.961538        NaN          49.389610   79.632353  \n",
       "region_34     70.297297        NaN          50.095238   79.222222  \n",
       "region_4      69.623037  83.911765          50.289377   80.065217  \n",
       "region_5      69.537313  86.000000          49.950226   79.823770  \n",
       "region_6      69.298246  81.500000          49.988806   79.685393  \n",
       "region_7      70.167905  84.319149          50.331020   80.147643  \n",
       "region_8      70.570175  84.882353          50.270270   79.678571  \n",
       "region_9      69.466667  82.000000          50.057613   80.031250  "
      ]
     },
     "execution_count": 120,
     "metadata": {},
     "output_type": "execute_result"
    }
   ],
   "source": [
    "df_region_depart_mean_train_score"
   ]
  },
  {
   "cell_type": "code",
   "execution_count": 121,
   "metadata": {},
   "outputs": [],
   "source": [
    "def calculate_train_score_wrt_reg_and_depart(x):\n",
    "    return x['avg_training_score']/df_region_depart_mean_train_score.loc[x['region']][x['department']]\n",
    "\n",
    "df_new['avg_train_score_gby_reg_dep'] = df_new.apply(calculate_train_score_wrt_reg_and_depart, axis=1)"
   ]
  },
  {
   "cell_type": "code",
   "execution_count": 124,
   "metadata": {},
   "outputs": [
    {
     "data": {
      "image/png": "[encoded data removed]",
      "text/plain": [
       "<Figure size 432x288 with 1 Axes>"
      ]
     },
     "metadata": {
      "needs_background": "light"
     },
     "output_type": "display_data"
    }
   ],
   "source": [
    "sns.distplot(df_new[df_new['is_promoted'] == 0]['avg_train_score_gby_reg_dep'], label = 'not promoted')\n",
    "sns.distplot(df_new[df_new['is_promoted'] == 1]['avg_train_score_gby_reg_dep'], label='promoted');\n",
    "plt.legend()\n",
    "plt.show()"
   ]
  },
  {
   "cell_type": "markdown",
   "metadata": {},
   "source": [
    "### This helped in distinguishing the promoted and not promoted ones"
   ]
  },
  {
   "cell_type": "code",
   "execution_count": 152,
   "metadata": {},
   "outputs": [],
   "source": [
    "train, test = train_test_split(df, test_size= 0.2, random_state = 42)"
   ]
  },
  {
   "cell_type": "code",
   "execution_count": 153,
   "metadata": {},
   "outputs": [],
   "source": [
    "X_train = train.drop('is_promoted', axis=1)\n",
    "y_train = train['is_promoted']\n",
    "X_test = test.drop('is_promoted', axis=1)\n",
    "y_test = test['is_promoted']"
   ]
  },
  {
   "cell_type": "code",
   "execution_count": 155,
   "metadata": {},
   "outputs": [
    {
     "name": "stdout",
     "output_type": "stream",
     "text": [
      "(43846, 14) (10962, 14)\n"
     ]
    }
   ],
   "source": [
    "print(X_train.shape, X_test.shape)"
   ]
  },
  {
   "cell_type": "raw",
   "metadata": {},
   "source": []
  },
  {
   "cell_type": "code",
   "execution_count": null,
   "metadata": {},
   "outputs": [],
   "source": []
  },
  {
   "cell_type": "code",
   "execution_count": 141,
   "metadata": {},
   "outputs": [],
   "source": [
    "class CalculateNewFeature():\n",
    "    \n",
    "    def __init__(self):\n",
    "        self.df_region_depart_mean_score = pd.DataFrame()\n",
    "        self.df_region_depart_KPI_avg_score = pd.DataFrame()\n",
    "        self.df_region_depart_awards_won = pd.DataFrame()\n",
    "    \n",
    "    def fit(self, x_dataset, y=None):\n",
    "        #self.df_region_depart_mean_score = x_dataset.groupby(['region', 'department'])['avg_training_score'].agg('mean').unstack()\n",
    "        #self.df_region_depart_los_mean_score = x_dataset.groupby(['region', 'department'])['length_of_service'].agg('mean').unstack()\n",
    "        return self\n",
    "\n",
    "    def calculate_score_wrt_reg_and_depart(self, x):\n",
    "        return x['avg_training_score']/self.df_region_depart_mean_score.loc[x['region']][x['department']]\n",
    "\n",
    "    def calculate_df_region_depart_KPI_avg_score(self, x):\n",
    "        try:\n",
    "            return x['KPIs_met >80%']/self.df_region_depart_KPI_avg_score.loc[x['region']][x['department']]\n",
    "        except:\n",
    "            return 0\n",
    "    \n",
    "    def calculate_df_region_depart_awards_won(self, x):\n",
    "        try:\n",
    "            return x['awards_won?']/self.df_region_depart_awards_won.loc[x['region']][x['department']]\n",
    "        except:\n",
    "            return 0\n",
    "    \n",
    "    def transform(self, x_dataset, y=None):\n",
    "        self.df_region_depart_mean_score = x_dataset.groupby(['region', 'department'])['avg_training_score'].agg('mean').unstack()\n",
    "        self.df_region_depart_KPI_avg_score = x_dataset.groupby(['region', 'department'])['KPIs_met >80%'].agg('mean').unstack()\n",
    "        self.df_region_depart_awads_won = x_dataset.groupby(['region', 'department'])['awards_won?'].agg('mean').unstack()\n",
    "        x_dataset = x_dataset.assign(avg_test_score_gby_reg_dep = x_dataset.apply(self.calculate_score_wrt_reg_and_depart, axis=1))\n",
    "        x_dataset = x_dataset.assign(KPIs_score_gby_reg_dep = x_dataset.apply(self.calculate_df_region_depart_KPI_avg_score, axis=1))\n",
    "        x_dataset = x_dataset.assign(awards_won_gby_reg_dep = x_dataset.apply(self.calculate_df_region_depart_awards_won, axis=1))\n",
    "        a = pd.DataFrame(StandardScaler().fit_transform(x_dataset[['avg_test_score_gby_reg_dep', 'KPIs_score_gby_reg_dep']]) , columns=['avg_test_score_gby_reg_dep', 'KPIs_score_gby_reg_dep'])\n",
    "        a['KPI_and_training_Score'] = a['avg_test_score_gby_reg_dep']+a['KPIs_score_gby_reg_dep'] \n",
    "        x_dataset = x_dataset.join(a['KPI_and_training_Score']) \n",
    "        return x_dataset\n",
    "    "
   ]
  },
  {
   "cell_type": "code",
   "execution_count": 142,
   "metadata": {},
   "outputs": [],
   "source": [
    "class Scale():\n",
    "    \n",
    "    def __init__(self):\n",
    "        self.minmax_scale = MinMaxScaler()\n",
    "    \n",
    "    def fit(self, x_dataset, y=None):\n",
    "        self.minmax_scale.fit(x_dataset)\n",
    "        return self\n",
    "\n",
    "    def transform(self, x_dataset, y=None):\n",
    "        return self.minmax_scale.transform(x_dataset)"
   ]
  },
  {
   "cell_type": "code",
   "execution_count": 143,
   "metadata": {},
   "outputs": [],
   "source": [
    "class Impute_Missing_Data():\n",
    "    \n",
    "    def __init__(self, cat_var, num_var):\n",
    "        self.cat_var = cat_var\n",
    "        self.num_var = num_var\n",
    "        self.sin = SimpleImputer(strategy='mean')\n",
    "        self.sic = SimpleImputer(strategy='most_frequent')\n",
    "    \n",
    "    def fit(self, x_dataset, y=None):\n",
    "        self.sic.fit(x_dataset[self.cat_var])\n",
    "        self.sin.fit(x_dataset[self.num_var])\n",
    "        return self\n",
    "\n",
    "    def transform(self, x_dataset, y=None):\n",
    "        x_dataset.loc[:][self.cat_var] = self.sic.transform(x_dataset[self.cat_var])\n",
    "        x_dataset.loc[:][self.num_var] = self.sin.transform(x_dataset[self.num_var])\n",
    "        x_dataset['KPI_and_training_Score'].fillna(value=0, inplace=True)\n",
    "        #x_dataset['awards_won_gby_reg_dep'].fillna(value=0, inplace=True)\n",
    "        return x_dataset"
   ]
  },
  {
   "cell_type": "code",
   "execution_count": 144,
   "metadata": {},
   "outputs": [],
   "source": [
    "pre_process = ColumnTransformer(remainder='passthrough', \n",
    "                                transformers=[\n",
    "                                              ('one_hot_encoding', ce.OneHotEncoder(), ['gender','education','recruitment_channel']),\n",
    "                                              #('binary_encoding', ce.BinaryEncoder(), ['department', 'region']),\n",
    "                                              ('drop_col', 'drop', [ 'gender', \n",
    "                                                                    'employee_id', 'recruitment_channel',\n",
    "                                                                    'avg_training_score', 'education','department', \n",
    "                                                                    'region', 'KPIs_score_gby_reg_dep', 'KPIs_met >80%'])\n",
    "                                             ])"
   ]
  },
  {
   "cell_type": "code",
   "execution_count": 145,
   "metadata": {},
   "outputs": [],
   "source": [
    "num_var = ['previous_year_rating']\n",
    "cat_var = ['education']"
   ]
  },
  {
   "cell_type": "code",
   "execution_count": 271,
   "metadata": {},
   "outputs": [],
   "source": [
    "pip = Pipeline(steps=[('calculate_new_feature', CalculateNewFeature()),\n",
    "                     ('impute_missing', Impute_Missing_Data(cat_var=cat_var, num_var=num_var)),\n",
    "                     ('pre_process', pre_process),\n",
    "                     ('scale', Scale()),\n",
    "                     ('random_forest', RandomForestClassifier(random_state=42, n_estimators=100, max_depth=6))\n",
    "                     ])"
   ]
  },
  {
   "cell_type": "code",
   "execution_count": 272,
   "metadata": {},
   "outputs": [],
   "source": [
    "parameters = {\n",
    "    'random_forest__n_estimators':[80,90,100],\n",
    "    'random_forest__max_depth':[4,5,6],\n",
    "}"
   ]
  },
  {
   "cell_type": "code",
   "execution_count": 273,
   "metadata": {},
   "outputs": [],
   "source": [
    "#gcv = GridSearchCV(pip, parameters, cv=5, verbose=1)"
   ]
  },
  {
   "cell_type": "code",
   "execution_count": 274,
   "metadata": {
    "scrolled": true
   },
   "outputs": [
    {
     "name": "stderr",
     "output_type": "stream",
     "text": [
      "<ipython-input-141-3d134c3e6c02>:18: RuntimeWarning: invalid value encountered in double_scalars\n",
      "  return x['KPIs_met >80%']/self.df_region_depart_KPI_avg_score.loc[x['region']][x['department']]\n"
     ]
    },
    {
     "data": {
      "text/plain": [
       "Pipeline(steps=[('calculate_new_feature',\n",
       "                 <__main__.CalculateNewFeature object at 0x00000185E4FA8220>),\n",
       "                ('impute_missing',\n",
       "                 <__main__.Impute_Missing_Data object at 0x00000185E4FA8BE0>),\n",
       "                ('pre_process',\n",
       "                 ColumnTransformer(remainder='passthrough',\n",
       "                                   transformers=[('one_hot_encoding',\n",
       "                                                  OneHotEncoder(),\n",
       "                                                  ['gender', 'education',\n",
       "                                                   'recruitment_channel']),\n",
       "                                                 ('drop_col', 'drop',\n",
       "                                                  ['gender', 'employee_id',\n",
       "                                                   'recruitment_channel',\n",
       "                                                   'avg_training_score',\n",
       "                                                   'education', 'department',\n",
       "                                                   'region',\n",
       "                                                   'KPIs_score_gby_reg_dep',\n",
       "                                                   'KPIs_met >80%'])])),\n",
       "                ('scale', <__main__.Scale object at 0x00000185E4FA8A30>),\n",
       "                ('random_forest',\n",
       "                 RandomForestClassifier(max_depth=6, random_state=42))])"
      ]
     },
     "execution_count": 274,
     "metadata": {},
     "output_type": "execute_result"
    }
   ],
   "source": [
    "pip.fit(X_train, y_train)"
   ]
  },
  {
   "cell_type": "code",
   "execution_count": 188,
   "metadata": {},
   "outputs": [
    {
     "name": "stderr",
     "output_type": "stream",
     "text": [
      "<ipython-input-141-3d134c3e6c02>:18: RuntimeWarning: invalid value encountered in double_scalars\n",
      "  return x['KPIs_met >80%']/self.df_region_depart_KPI_avg_score.loc[x['region']][x['department']]\n"
     ]
    }
   ],
   "source": [
    "y_pred = gcv.predict(df.drop('is_promoted', axis=1))"
   ]
  },
  {
   "cell_type": "code",
   "execution_count": 275,
   "metadata": {},
   "outputs": [
    {
     "name": "stderr",
     "output_type": "stream",
     "text": [
      "<ipython-input-141-3d134c3e6c02>:18: RuntimeWarning: invalid value encountered in double_scalars\n",
      "  return x['KPIs_met >80%']/self.df_region_depart_KPI_avg_score.loc[x['region']][x['department']]\n"
     ]
    }
   ],
   "source": [
    "pred_prob = gcv.predict_proba(X_test)"
   ]
  },
  {
   "cell_type": "code",
   "execution_count": null,
   "metadata": {},
   "outputs": [],
   "source": []
  },
  {
   "cell_type": "code",
   "execution_count": 277,
   "metadata": {},
   "outputs": [
    {
     "name": "stdout",
     "output_type": "stream",
     "text": [
      "accuracy for threshold :  0.5  :  0.9399744572158365\n",
      "F1 score for threshold :  0.5  :  0.44891122278056955\n",
      "[[10036    18]\n",
      " [  640   268]]\n",
      "              precision    recall  f1-score   support\n",
      "\n",
      "           0       0.94      1.00      0.97     10054\n",
      "           1       0.94      0.30      0.45       908\n",
      "\n",
      "    accuracy                           0.94     10962\n",
      "   macro avg       0.94      0.65      0.71     10962\n",
      "weighted avg       0.94      0.94      0.93     10962\n",
      "\n",
      "accuracy for threshold :  0.55  :  0.9402481299033023\n",
      "F1 score for threshold :  0.55  :  0.45462114904246465\n",
      "[[10034    20]\n",
      " [  635   273]]\n",
      "              precision    recall  f1-score   support\n",
      "\n",
      "           0       0.94      1.00      0.97     10054\n",
      "           1       0.93      0.30      0.45       908\n",
      "\n",
      "    accuracy                           0.94     10962\n",
      "   macro avg       0.94      0.65      0.71     10962\n",
      "weighted avg       0.94      0.94      0.93     10962\n",
      "\n",
      "accuracy for threshold :  0.6  :  0.9403393541324576\n",
      "F1 score for threshold :  0.6  :  0.4577114427860697\n",
      "[[10032    22]\n",
      " [  632   276]]\n",
      "              precision    recall  f1-score   support\n",
      "\n",
      "           0       0.94      1.00      0.97     10054\n",
      "           1       0.93      0.30      0.46       908\n",
      "\n",
      "    accuracy                           0.94     10962\n",
      "   macro avg       0.93      0.65      0.71     10962\n",
      "weighted avg       0.94      0.94      0.93     10962\n",
      "\n",
      "accuracy for threshold :  0.65  :  0.9404305783616128\n",
      "F1 score for threshold :  0.65  :  0.46431501230516814\n",
      "[[10026    28]\n",
      " [  625   283]]\n",
      "              precision    recall  f1-score   support\n",
      "\n",
      "           0       0.94      1.00      0.97     10054\n",
      "           1       0.91      0.31      0.46       908\n",
      "\n",
      "    accuracy                           0.94     10962\n",
      "   macro avg       0.93      0.65      0.72     10962\n",
      "weighted avg       0.94      0.94      0.93     10962\n",
      "\n",
      "accuracy for threshold :  0.7  :  0.9402481299033023\n",
      "F1 score for threshold :  0.7  :  0.4679122664500407\n",
      "[[10019    35]\n",
      " [  620   288]]\n",
      "              precision    recall  f1-score   support\n",
      "\n",
      "           0       0.94      1.00      0.97     10054\n",
      "           1       0.89      0.32      0.47       908\n",
      "\n",
      "    accuracy                           0.94     10962\n",
      "   macro avg       0.92      0.66      0.72     10962\n",
      "weighted avg       0.94      0.94      0.93     10962\n",
      "\n",
      "accuracy for threshold :  0.75  :  0.9397007845283707\n",
      "F1 score for threshold :  0.75  :  0.4782951854775059\n",
      "[[9998   56]\n",
      " [ 605  303]]\n",
      "              precision    recall  f1-score   support\n",
      "\n",
      "           0       0.94      0.99      0.97     10054\n",
      "           1       0.84      0.33      0.48       908\n",
      "\n",
      "    accuracy                           0.94     10962\n",
      "   macro avg       0.89      0.66      0.72     10962\n",
      "weighted avg       0.93      0.94      0.93     10962\n",
      "\n",
      "accuracy for threshold :  0.8  :  0.9351395730706076\n",
      "F1 score for threshold :  0.8  :  0.47835656639765234\n",
      "[[9925  129]\n",
      " [ 582  326]]\n",
      "              precision    recall  f1-score   support\n",
      "\n",
      "           0       0.94      0.99      0.97     10054\n",
      "           1       0.72      0.36      0.48       908\n",
      "\n",
      "    accuracy                           0.94     10962\n",
      "   macro avg       0.83      0.67      0.72     10962\n",
      "weighted avg       0.93      0.94      0.93     10962\n",
      "\n",
      "accuracy for threshold :  0.85  :  0.9323116219667944\n",
      "F1 score for threshold :  0.85  :  0.47375886524822697\n",
      "[[9886  168]\n",
      " [ 574  334]]\n",
      "              precision    recall  f1-score   support\n",
      "\n",
      "           0       0.95      0.98      0.96     10054\n",
      "           1       0.67      0.37      0.47       908\n",
      "\n",
      "    accuracy                           0.93     10962\n",
      "   macro avg       0.81      0.68      0.72     10962\n",
      "weighted avg       0.92      0.93      0.92     10962\n",
      "\n",
      "accuracy for threshold :  0.9  :  0.8251231527093597\n",
      "F1 score for threshold :  0.9  :  0.35258358662613987\n",
      "[[8523 1531]\n",
      " [ 386  522]]\n",
      "              precision    recall  f1-score   support\n",
      "\n",
      "           0       0.96      0.85      0.90     10054\n",
      "           1       0.25      0.57      0.35       908\n",
      "\n",
      "    accuracy                           0.83     10962\n",
      "   macro avg       0.61      0.71      0.63     10962\n",
      "weighted avg       0.90      0.83      0.85     10962\n",
      "\n"
     ]
    }
   ],
   "source": [
    "for th in range(50, 95, 5):\n",
    "    y_pred_th = (pred_prob[:,0] <= (th/100)).astype('int')\n",
    "    print(\"accuracy for threshold : \", th/100, \" : \", accuracy_score(y_test, y_pred_th))\n",
    "    print(\"F1 score for threshold : \" ,th/100, \" : \", f1_score(y_test, y_pred_th))\n",
    "    print(confusion_matrix(y_test, y_pred_th))\n",
    "    print(classification_report(y_test, y_pred_th))"
   ]
  },
  {
   "cell_type": "code",
   "execution_count": null,
   "metadata": {},
   "outputs": [],
   "source": []
  },
  {
   "cell_type": "code",
   "execution_count": null,
   "metadata": {},
   "outputs": [],
   "source": []
  },
  {
   "cell_type": "markdown",
   "metadata": {},
   "source": [
    "Todo: break this data to train and test data, then try oversampling, run pipeline for train and test data. Look if any of the feature removed needs to be included. Also use grid search cv for hyperparameter tuning. Also use EDA for skewness test for numerical features. Also when to use which transformer (log, minmax, standard scaler)"
   ]
  },
  {
   "cell_type": "code",
   "execution_count": 175,
   "metadata": {},
   "outputs": [],
   "source": [
    "RandomForestClassifier?"
   ]
  },
  {
   "cell_type": "code",
   "execution_count": 184,
   "metadata": {},
   "outputs": [
    {
     "data": {
      "text/plain": [
       "dict_keys(['memory', 'steps', 'verbose', 'calculate_new_feature', 'impute_missing', 'pre_process', 'scale', 'random_forest', 'pre_process__n_jobs', 'pre_process__remainder', 'pre_process__sparse_threshold', 'pre_process__transformer_weights', 'pre_process__transformers', 'pre_process__verbose', 'pre_process__one_hot_encoding', 'pre_process__drop_col', 'pre_process__one_hot_encoding__cols', 'pre_process__one_hot_encoding__drop_invariant', 'pre_process__one_hot_encoding__handle_missing', 'pre_process__one_hot_encoding__handle_unknown', 'pre_process__one_hot_encoding__return_df', 'pre_process__one_hot_encoding__use_cat_names', 'pre_process__one_hot_encoding__verbose', 'random_forest__bootstrap', 'random_forest__ccp_alpha', 'random_forest__class_weight', 'random_forest__criterion', 'random_forest__max_depth', 'random_forest__max_features', 'random_forest__max_leaf_nodes', 'random_forest__max_samples', 'random_forest__min_impurity_decrease', 'random_forest__min_impurity_split', 'random_forest__min_samples_leaf', 'random_forest__min_samples_split', 'random_forest__min_weight_fraction_leaf', 'random_forest__n_estimators', 'random_forest__n_jobs', 'random_forest__oob_score', 'random_forest__random_state', 'random_forest__verbose', 'random_forest__warm_start'])"
      ]
     },
     "execution_count": 184,
     "metadata": {},
     "output_type": "execute_result"
    }
   ],
   "source": [
    "pip.get_params().keys()"
   ]
  },
  {
   "cell_type": "code",
   "execution_count": 207,
   "metadata": {},
   "outputs": [
    {
     "data": {
      "text/plain": [
       "{'random_forest__max_depth': 6, 'random_forest__n_estimators': 100}"
      ]
     },
     "execution_count": 207,
     "metadata": {},
     "output_type": "execute_result"
    }
   ],
   "source": [
    "gcv.best_params_"
   ]
  },
  {
   "cell_type": "code",
   "execution_count": 209,
   "metadata": {},
   "outputs": [],
   "source": [
    "skf = StratifiedKFold(n_splits=5)\n",
    "skf.split"
   ]
  },
  {
   "cell_type": "code",
   "execution_count": 217,
   "metadata": {},
   "outputs": [
    {
     "name": "stdout",
     "output_type": "stream",
     "text": [
      "Fold 1 Class Ratio: 0.08520343003101624\n",
      "Fold 2 Class Ratio: 0.08520343003101624\n",
      "Fold 3 Class Ratio: 0.08520343003101624\n",
      "Fold 4 Class Ratio: 0.08511997080558344\n",
      "Fold 5 Class Ratio: 0.08511997080558344\n"
     ]
    }
   ],
   "source": [
    "skf = StratifiedKFold(n_splits=5)\n",
    "\n",
    "fold_no = 1\n",
    "\n",
    "for train_index, test_index in skf.split(df, df['is_promoted']):\n",
    "    train = df.iloc[train_index,:]\n",
    "    test = df.iloc[test_index,:]\n",
    "    #print(test)\n",
    "    print('Fold',str(fold_no),\n",
    "          'Class Ratio:',\n",
    "          sum(test['is_promoted'])/len(test['is_promoted']))\n",
    "    fold_no += 1"
   ]
  },
  {
   "cell_type": "code",
   "execution_count": 297,
   "metadata": {},
   "outputs": [],
   "source": [
    "ros = RandomUnderSampler(sampling_strategy=0.55)\n",
    "X_train_ros, y_train_ros = ros.fit_resample(X_train, y_train)"
   ]
  },
  {
   "cell_type": "code",
   "execution_count": 298,
   "metadata": {},
   "outputs": [],
   "source": [
    "pip = Pipeline(steps=[('calculate_new_feature', CalculateNewFeature()),\n",
    "                     ('impute_missing', Impute_Missing_Data(cat_var=cat_var, num_var=num_var)),\n",
    "                     ('pre_process', pre_process),\n",
    "                     ('scale', Scale()),\n",
    "                     ('random_forest', RandomForestClassifier(random_state=42, n_estimators=100, max_depth=7))\n",
    "                     ])"
   ]
  },
  {
   "cell_type": "code",
   "execution_count": 299,
   "metadata": {},
   "outputs": [
    {
     "name": "stderr",
     "output_type": "stream",
     "text": [
      "<ipython-input-141-3d134c3e6c02>:18: RuntimeWarning: invalid value encountered in double_scalars\n",
      "  return x['KPIs_met >80%']/self.df_region_depart_KPI_avg_score.loc[x['region']][x['department']]\n"
     ]
    },
    {
     "data": {
      "text/plain": [
       "Pipeline(steps=[('calculate_new_feature',\n",
       "                 <__main__.CalculateNewFeature object at 0x00000185E4F90CA0>),\n",
       "                ('impute_missing',\n",
       "                 <__main__.Impute_Missing_Data object at 0x00000185E62B5AF0>),\n",
       "                ('pre_process',\n",
       "                 ColumnTransformer(remainder='passthrough',\n",
       "                                   transformers=[('one_hot_encoding',\n",
       "                                                  OneHotEncoder(),\n",
       "                                                  ['gender', 'education',\n",
       "                                                   'recruitment_channel']),\n",
       "                                                 ('drop_col', 'drop',\n",
       "                                                  ['gender', 'employee_id',\n",
       "                                                   'recruitment_channel',\n",
       "                                                   'avg_training_score',\n",
       "                                                   'education', 'department',\n",
       "                                                   'region',\n",
       "                                                   'KPIs_score_gby_reg_dep',\n",
       "                                                   'KPIs_met >80%'])])),\n",
       "                ('scale', <__main__.Scale object at 0x00000185E56538B0>),\n",
       "                ('random_forest',\n",
       "                 RandomForestClassifier(max_depth=7, random_state=42))])"
      ]
     },
     "execution_count": 299,
     "metadata": {},
     "output_type": "execute_result"
    }
   ],
   "source": [
    "pip.fit(X_train_ros, y_train_ros)"
   ]
  },
  {
   "cell_type": "code",
   "execution_count": 300,
   "metadata": {},
   "outputs": [
    {
     "name": "stderr",
     "output_type": "stream",
     "text": [
      "<ipython-input-141-3d134c3e6c02>:18: RuntimeWarning: invalid value encountered in double_scalars\n",
      "  return x['KPIs_met >80%']/self.df_region_depart_KPI_avg_score.loc[x['region']][x['department']]\n"
     ]
    }
   ],
   "source": [
    "pred_prob = pip.predict_proba(X_test)\n",
    "    "
   ]
  },
  {
   "cell_type": "code",
   "execution_count": 301,
   "metadata": {},
   "outputs": [
    {
     "name": "stdout",
     "output_type": "stream",
     "text": [
      "accuracy for threshold :  0.05  :  0.9190841087392811\n",
      "F1 score for threshold :  0.05  :  0.04520990312163617\n",
      "[[10054     0]\n",
      " [  887    21]]\n",
      "              precision    recall  f1-score   support\n",
      "\n",
      "           0       0.92      1.00      0.96     10054\n",
      "           1       1.00      0.02      0.05       908\n",
      "\n",
      "    accuracy                           0.92     10962\n",
      "   macro avg       0.96      0.51      0.50     10962\n",
      "weighted avg       0.93      0.92      0.88     10962\n",
      "\n",
      "accuracy for threshold :  0.1  :  0.9242838898011312\n",
      "F1 score for threshold :  0.1  :  0.1716566866267465\n",
      "[[10046     8]\n",
      " [  822    86]]\n",
      "              precision    recall  f1-score   support\n",
      "\n",
      "           0       0.92      1.00      0.96     10054\n",
      "           1       0.91      0.09      0.17       908\n",
      "\n",
      "    accuracy                           0.92     10962\n",
      "   macro avg       0.92      0.55      0.57     10962\n",
      "weighted avg       0.92      0.92      0.90     10962\n",
      "\n",
      "accuracy for threshold :  0.15  :  0.9315818281335523\n",
      "F1 score for threshold :  0.15  :  0.36655405405405406\n",
      "[[9995   59]\n",
      " [ 691  217]]\n",
      "              precision    recall  f1-score   support\n",
      "\n",
      "           0       0.94      0.99      0.96     10054\n",
      "           1       0.79      0.24      0.37       908\n",
      "\n",
      "    accuracy                           0.93     10962\n",
      "   macro avg       0.86      0.62      0.67     10962\n",
      "weighted avg       0.92      0.93      0.91     10962\n",
      "\n",
      "accuracy for threshold :  0.2  :  0.9324028461959496\n",
      "F1 score for threshold :  0.2  :  0.42244738893219014\n",
      "[[9950  104]\n",
      " [ 637  271]]\n",
      "              precision    recall  f1-score   support\n",
      "\n",
      "           0       0.94      0.99      0.96     10054\n",
      "           1       0.72      0.30      0.42       908\n",
      "\n",
      "    accuracy                           0.93     10962\n",
      "   macro avg       0.83      0.64      0.69     10962\n",
      "weighted avg       0.92      0.93      0.92     10962\n",
      "\n",
      "accuracy for threshold :  0.25  :  0.9303046889253785\n",
      "F1 score for threshold :  0.25  :  0.42814371257485034\n",
      "[[9912  142]\n",
      " [ 622  286]]\n",
      "              precision    recall  f1-score   support\n",
      "\n",
      "           0       0.94      0.99      0.96     10054\n",
      "           1       0.67      0.31      0.43       908\n",
      "\n",
      "    accuracy                           0.93     10962\n",
      "   macro avg       0.80      0.65      0.70     10962\n",
      "weighted avg       0.92      0.93      0.92     10962\n",
      "\n",
      "accuracy for threshold :  0.3  :  0.927659186279876\n",
      "F1 score for threshold :  0.3  :  0.43154121863799283\n",
      "[[9868  186]\n",
      " [ 607  301]]\n",
      "              precision    recall  f1-score   support\n",
      "\n",
      "           0       0.94      0.98      0.96     10054\n",
      "           1       0.62      0.33      0.43       908\n",
      "\n",
      "    accuracy                           0.93     10962\n",
      "   macro avg       0.78      0.66      0.70     10962\n",
      "weighted avg       0.92      0.93      0.92     10962\n",
      "\n",
      "accuracy for threshold :  0.35  :  0.9233716475095786\n",
      "F1 score for threshold :  0.35  :  0.43012211668928085\n",
      "[[9805  249]\n",
      " [ 591  317]]\n",
      "              precision    recall  f1-score   support\n",
      "\n",
      "           0       0.94      0.98      0.96     10054\n",
      "           1       0.56      0.35      0.43       908\n",
      "\n",
      "    accuracy                           0.92     10962\n",
      "   macro avg       0.75      0.66      0.69     10962\n",
      "weighted avg       0.91      0.92      0.92     10962\n",
      "\n",
      "accuracy for threshold :  0.4  :  0.9199963510308338\n",
      "F1 score for threshold :  0.4  :  0.4294079375406636\n",
      "[[9755  299]\n",
      " [ 578  330]]\n",
      "              precision    recall  f1-score   support\n",
      "\n",
      "           0       0.94      0.97      0.96     10054\n",
      "           1       0.52      0.36      0.43       908\n",
      "\n",
      "    accuracy                           0.92     10962\n",
      "   macro avg       0.73      0.67      0.69     10962\n",
      "weighted avg       0.91      0.92      0.91     10962\n",
      "\n",
      "accuracy for threshold :  0.45  :  0.8679985404123335\n",
      "F1 score for threshold :  0.45  :  0.3425715583825534\n",
      "[[9138  916]\n",
      " [ 531  377]]\n",
      "              precision    recall  f1-score   support\n",
      "\n",
      "           0       0.95      0.91      0.93     10054\n",
      "           1       0.29      0.42      0.34       908\n",
      "\n",
      "    accuracy                           0.87     10962\n",
      "   macro avg       0.62      0.66      0.63     10962\n",
      "weighted avg       0.89      0.87      0.88     10962\n",
      "\n",
      "accuracy for threshold :  0.5  :  0.7483123517606276\n",
      "F1 score for threshold :  0.5  :  0.26012335746849025\n",
      "[[7718 2336]\n",
      " [ 423  485]]\n",
      "              precision    recall  f1-score   support\n",
      "\n",
      "           0       0.95      0.77      0.85     10054\n",
      "           1       0.17      0.53      0.26       908\n",
      "\n",
      "    accuracy                           0.75     10962\n",
      "   macro avg       0.56      0.65      0.55     10962\n",
      "weighted avg       0.88      0.75      0.80     10962\n",
      "\n",
      "accuracy for threshold :  0.55  :  0.5327494982667397\n",
      "F1 score for threshold :  0.55  :  0.20242914979757085\n",
      "[[5190 4864]\n",
      " [ 258  650]]\n",
      "              precision    recall  f1-score   support\n",
      "\n",
      "           0       0.95      0.52      0.67     10054\n",
      "           1       0.12      0.72      0.20       908\n",
      "\n",
      "    accuracy                           0.53     10962\n",
      "   macro avg       0.54      0.62      0.44     10962\n",
      "weighted avg       0.88      0.53      0.63     10962\n",
      "\n"
     ]
    }
   ],
   "source": [
    "for th in range(5, 60, 5):\n",
    "    y_pred_th = (pred_prob[:,0] <= (th/100)).astype('int')\n",
    "    print(\"accuracy for threshold : \", th/100, \" : \", accuracy_score(y_test, y_pred_th))\n",
    "    print(\"F1 score for threshold : \" ,th/100, \" : \", f1_score(y_test, y_pred_th))\n",
    "    print(confusion_matrix(y_test, y_pred_th))\n",
    "    print(classification_report(y_test, y_pred_th))"
   ]
  },
  {
   "cell_type": "code",
   "execution_count": 258,
   "metadata": {},
   "outputs": [
    {
     "data": {
      "text/plain": [
       "0    10742\n",
       "1     3760\n",
       "Name: is_promoted, dtype: int64"
      ]
     },
     "execution_count": 258,
     "metadata": {},
     "output_type": "execute_result"
    }
   ],
   "source": [
    "y_train_ros.value_counts()"
   ]
  },
  {
   "cell_type": "code",
   "execution_count": 259,
   "metadata": {},
   "outputs": [
    {
     "data": {
      "text/plain": [
       "(10962, 14)"
      ]
     },
     "execution_count": 259,
     "metadata": {},
     "output_type": "execute_result"
    }
   ],
   "source": [
    "X_test.shape"
   ]
  },
  {
   "cell_type": "code",
   "execution_count": 267,
   "metadata": {},
   "outputs": [],
   "source": [
    "confusion_matrix?"
   ]
  },
  {
   "cell_type": "markdown",
   "metadata": {},
   "source": [
    "Report for Undersampled fitted model\n",
    "accuracy for threshold :  0.55  :  0.9252873563218391\n",
    "F1 score for threshold :  0.55  :  0.4514400535833892\n",
    "[[9806  248]\n",
    " [ 571  337]]\n",
    "              precision    recall  f1-score   support\n",
    "\n",
    "           0       0.94      0.98      0.96     10054\n",
    "           1       0.58      0.37      0.45       908\n",
    "\n",
    "    accuracy                           0.93     10962\n",
    "   macro avg       0.76      0.67      0.71     10962\n",
    "weighted avg       0.91      0.93      0.92     10962"
   ]
  },
  {
   "cell_type": "markdown",
   "metadata": {},
   "source": [
    "Report for model with original distribution\n",
    "accuracy for threshold :  0.75  :  0.9397007845283707\n",
    "F1 score for threshold :  0.75  :  0.4782951854775059\n",
    "[[9998   56]\n",
    " [ 605  303]]\n",
    "              precision    recall  f1-score   support\n",
    "\n",
    "           0       0.94      0.99      0.97     10054\n",
    "           1       0.84      0.33      0.48       908\n",
    "\n",
    "    accuracy                           0.94     10962\n",
    "   macro avg       0.89      0.66      0.72     10962\n",
    "weighted avg       0.93      0.94      0.93     10962"
   ]
  },
  {
   "cell_type": "code",
   "execution_count": 302,
   "metadata": {},
   "outputs": [],
   "source": [
    "from imblearn.over_sampling import SMOTE"
   ]
  },
  {
   "cell_type": "code",
   "execution_count": 323,
   "metadata": {},
   "outputs": [],
   "source": [
    "smote = SMOTE()\n"
   ]
  },
  {
   "cell_type": "code",
   "execution_count": 315,
   "metadata": {},
   "outputs": [],
   "source": [
    "pip = Pipeline(steps=[('calculate_new_feature', CalculateNewFeature()),\n",
    "                     ('impute_missing', Impute_Missing_Data(cat_var=cat_var, num_var=num_var)),\n",
    "                     ('pre_process', pre_process),\n",
    "                     ('scale', Scale()),\n",
    "                     ('random_forest', RandomForestClassifier(random_state=42, n_estimators=100, max_depth=7))\n",
    "                     ])"
   ]
  },
  {
   "cell_type": "code",
   "execution_count": 306,
   "metadata": {},
   "outputs": [],
   "source": [
    "pip_sm =  Pipeline(steps=[('calculate_new_feature', CalculateNewFeature()),\n",
    "                     ('impute_missing', Impute_Missing_Data(cat_var=cat_var, num_var=num_var)),\n",
    "                     ('pre_process', pre_process),\n",
    "                     ('scale', Scale())\n",
    "                     ])"
   ]
  },
  {
   "cell_type": "code",
   "execution_count": 311,
   "metadata": {},
   "outputs": [
    {
     "name": "stderr",
     "output_type": "stream",
     "text": [
      "<ipython-input-141-3d134c3e6c02>:18: RuntimeWarning: invalid value encountered in double_scalars\n",
      "  return x['KPIs_met >80%']/self.df_region_depart_KPI_avg_score.loc[x['region']][x['department']]\n"
     ]
    }
   ],
   "source": [
    "X_train_smote = pip_sm.fit_transform(X_train)"
   ]
  },
  {
   "cell_type": "code",
   "execution_count": 312,
   "metadata": {},
   "outputs": [],
   "source": [
    "x_smote, y_smote = smote.fit_resample(X_train_smote, y_train)"
   ]
  },
  {
   "cell_type": "code",
   "execution_count": 316,
   "metadata": {},
   "outputs": [],
   "source": [
    "rf = RandomForestClassifier(random_state=42, n_estimators=100, max_depth=7)"
   ]
  },
  {
   "cell_type": "code",
   "execution_count": 317,
   "metadata": {},
   "outputs": [
    {
     "data": {
      "text/plain": [
       "RandomForestClassifier(max_depth=7, random_state=42)"
      ]
     },
     "execution_count": 317,
     "metadata": {},
     "output_type": "execute_result"
    }
   ],
   "source": [
    "rf.fit(x_smote, y_smote)"
   ]
  },
  {
   "cell_type": "code",
   "execution_count": 319,
   "metadata": {},
   "outputs": [
    {
     "name": "stderr",
     "output_type": "stream",
     "text": [
      "<ipython-input-141-3d134c3e6c02>:18: RuntimeWarning: invalid value encountered in double_scalars\n",
      "  return x['KPIs_met >80%']/self.df_region_depart_KPI_avg_score.loc[x['region']][x['department']]\n"
     ]
    }
   ],
   "source": [
    "X_test_smote = pip_sm.transform(X_test)"
   ]
  },
  {
   "cell_type": "code",
   "execution_count": 321,
   "metadata": {},
   "outputs": [],
   "source": [
    "pred_prob = rf.predict_proba(X_test_smote)"
   ]
  },
  {
   "cell_type": "code",
   "execution_count": 359,
   "metadata": {},
   "outputs": [
    {
     "name": "stdout",
     "output_type": "stream",
     "text": [
      "accuracy for threshold :  0.1  :  0.9278416347381865\n",
      "F1 score for threshold :  0.1  :  0.23869104908565933\n",
      "[[10047     7]\n",
      " [  784   124]]\n",
      "              precision    recall  f1-score   support\n",
      "\n",
      "           0       0.93      1.00      0.96     10054\n",
      "           1       0.95      0.14      0.24       908\n",
      "\n",
      "    accuracy                           0.93     10962\n",
      "   macro avg       0.94      0.57      0.60     10962\n",
      "weighted avg       0.93      0.93      0.90     10962\n",
      "\n",
      "accuracy for threshold :  0.2  :  0.9398832329866813\n",
      "F1 score for threshold :  0.2  :  0.45492142266335817\n",
      "[[10028    26]\n",
      " [  633   275]]\n",
      "              precision    recall  f1-score   support\n",
      "\n",
      "           0       0.94      1.00      0.97     10054\n",
      "           1       0.91      0.30      0.45       908\n",
      "\n",
      "    accuracy                           0.94     10962\n",
      "   macro avg       0.93      0.65      0.71     10962\n",
      "weighted avg       0.94      0.94      0.93     10962\n",
      "\n",
      "accuracy for threshold :  0.3  :  0.9386060937785076\n",
      "F1 score for threshold :  0.3  :  0.4834996162701457\n",
      "[[9974   80]\n",
      " [ 593  315]]\n",
      "              precision    recall  f1-score   support\n",
      "\n",
      "           0       0.94      0.99      0.97     10054\n",
      "           1       0.80      0.35      0.48       908\n",
      "\n",
      "    accuracy                           0.94     10962\n",
      "   macro avg       0.87      0.67      0.73     10962\n",
      "weighted avg       0.93      0.94      0.93     10962\n",
      "\n",
      "accuracy for threshold :  0.4  :  0.931490603904397\n",
      "F1 score for threshold :  0.4  :  0.4737210932025228\n",
      "[[9873  181]\n",
      " [ 570  338]]\n",
      "              precision    recall  f1-score   support\n",
      "\n",
      "           0       0.95      0.98      0.96     10054\n",
      "           1       0.65      0.37      0.47       908\n",
      "\n",
      "    accuracy                           0.93     10962\n",
      "   macro avg       0.80      0.68      0.72     10962\n",
      "weighted avg       0.92      0.93      0.92     10962\n",
      "\n",
      "accuracy for threshold :  0.5  :  0.8513957307060755\n",
      "F1 score for threshold :  0.5  :  0.37177015040493633\n",
      "[[8851 1203]\n",
      " [ 426  482]]\n",
      "              precision    recall  f1-score   support\n",
      "\n",
      "           0       0.95      0.88      0.92     10054\n",
      "           1       0.29      0.53      0.37       908\n",
      "\n",
      "    accuracy                           0.85     10962\n",
      "   macro avg       0.62      0.71      0.64     10962\n",
      "weighted avg       0.90      0.85      0.87     10962\n",
      "\n",
      "accuracy for threshold :  0.6  :  0.7661923006750593\n",
      "F1 score for threshold :  0.6  :  0.3130528008576789\n",
      "[[7815 2239]\n",
      " [ 324  584]]\n",
      "              precision    recall  f1-score   support\n",
      "\n",
      "           0       0.96      0.78      0.86     10054\n",
      "           1       0.21      0.64      0.31       908\n",
      "\n",
      "    accuracy                           0.77     10962\n",
      "   macro avg       0.58      0.71      0.59     10962\n",
      "weighted avg       0.90      0.77      0.81     10962\n",
      "\n",
      "accuracy for threshold :  0.7  :  0.3755701514322204\n",
      "F1 score for threshold :  0.7  :  0.19309206648591298\n",
      "[[3298 6756]\n",
      " [  89  819]]\n",
      "              precision    recall  f1-score   support\n",
      "\n",
      "           0       0.97      0.33      0.49     10054\n",
      "           1       0.11      0.90      0.19       908\n",
      "\n",
      "    accuracy                           0.38     10962\n",
      "   macro avg       0.54      0.62      0.34     10962\n",
      "weighted avg       0.90      0.38      0.47     10962\n",
      "\n",
      "accuracy for threshold :  0.8  :  0.13592410144134282\n",
      "F1 score for threshold :  0.8  :  0.15998581057112451\n",
      "[[ 588 9466]\n",
      " [   6  902]]\n",
      "              precision    recall  f1-score   support\n",
      "\n",
      "           0       0.99      0.06      0.11     10054\n",
      "           1       0.09      0.99      0.16       908\n",
      "\n",
      "    accuracy                           0.14     10962\n",
      "   macro avg       0.54      0.53      0.14     10962\n",
      "weighted avg       0.92      0.14      0.11     10962\n",
      "\n",
      "accuracy for threshold :  0.9  :  0.0832877212187557\n",
      "F1 score for threshold :  0.9  :  0.15305520438263803\n",
      "[[    5 10049]\n",
      " [    0   908]]\n",
      "              precision    recall  f1-score   support\n",
      "\n",
      "           0       1.00      0.00      0.00     10054\n",
      "           1       0.08      1.00      0.15       908\n",
      "\n",
      "    accuracy                           0.08     10962\n",
      "   macro avg       0.54      0.50      0.08     10962\n",
      "weighted avg       0.92      0.08      0.01     10962\n",
      "\n",
      "accuracy for threshold :  1.0  :  0.08283160007297938\n",
      "F1 score for threshold :  1.0  :  0.15299073294018534\n",
      "[[    0 10054]\n",
      " [    0   908]]\n",
      "              precision    recall  f1-score   support\n",
      "\n",
      "           0       0.00      0.00      0.00     10054\n",
      "           1       0.08      1.00      0.15       908\n",
      "\n",
      "    accuracy                           0.08     10962\n",
      "   macro avg       0.04      0.50      0.08     10962\n",
      "weighted avg       0.01      0.08      0.01     10962\n",
      "\n"
     ]
    },
    {
     "name": "stderr",
     "output_type": "stream",
     "text": [
      "C:\\Users\\LPT-2517\\anaconda3\\lib\\site-packages\\sklearn\\metrics\\_classification.py:1221: UndefinedMetricWarning: Precision and F-score are ill-defined and being set to 0.0 in labels with no predicted samples. Use `zero_division` parameter to control this behavior.\n",
      "  _warn_prf(average, modifier, msg_start, len(result))\n"
     ]
    }
   ],
   "source": [
    "precision_score_list = []\n",
    "recall_score_list = []\n",
    "for th in range(10, 110, 10):\n",
    "    y_pred_th = (pred_prob[:,0] <= (th/100)).astype('int')\n",
    "    print(\"accuracy for threshold : \", th/100, \" : \", accuracy_score(y_test, y_pred_th))\n",
    "    print(\"F1 score for threshold : \" ,th/100, \" : \", f1_score(y_test, y_pred_th))\n",
    "    precision_score_list.append(precision_score(y_test, y_pred_th))\n",
    "    recall_score_list.append(recall_score(y_test, y_pred_th))\n",
    "    print(confusion_matrix(y_test, y_pred_th))\n",
    "    print(classification_report(y_test, y_pred_th))"
   ]
  },
  {
   "cell_type": "markdown",
   "metadata": {},
   "source": [
    "accuracy for threshold :  0.3  :  0.9386060937785076\n",
    "F1 score for threshold :  0.3  :  0.4834996162701457\n",
    "[[9974   80]\n",
    " [ 593  315]]\n",
    "              precision    recall  f1-score   support\n",
    "\n",
    "           0       0.94      0.99      0.97     10054\n",
    "           1       0.80      0.35      0.48       908\n",
    "\n",
    "    accuracy                           0.94     10962\n",
    "   macro avg       0.87      0.67      0.73     10962\n",
    "weighted avg       0.93      0.94      0.93     10962"
   ]
  },
  {
   "cell_type": "code",
   "execution_count": 360,
   "metadata": {},
   "outputs": [
    {
     "data": {
      "text/plain": [
       "Text(0, 0.5, 'Precision')"
      ]
     },
     "execution_count": 360,
     "metadata": {},
     "output_type": "execute_result"
    },
    {
     "data": {
      "image/png": "[encoded data removed]",
      "text/plain": [
       "<Figure size 432x432 with 1 Axes>"
      ]
     },
     "metadata": {
      "needs_background": "light"
     },
     "output_type": "display_data"
    }
   ],
   "source": [
    "fig, ax = plt.subplots(figsize=(6,6))\n",
    "sns.lineplot(x=recall_score_list, y = precision_score_list)\n",
    "ax.set_xlabel('Recall')\n",
    "ax.set_ylabel('Precision')\n",
    "#ax.legend(loc='center left');\n"
   ]
  },
  {
   "cell_type": "markdown",
   "metadata": {},
   "source": [
    "### With smote we have highest accuracy as the classes are imbalanced."
   ]
  },
  {
   "cell_type": "code",
   "execution_count": 363,
   "metadata": {},
   "outputs": [],
   "source": [
    "y_pred_th = (pred_prob[:,0] <= (35/100)).astype('int')"
   ]
  },
  {
   "cell_type": "code",
   "execution_count": 365,
   "metadata": {},
   "outputs": [
    {
     "name": "stdout",
     "output_type": "stream",
     "text": [
      "              precision    recall  f1-score   support\n",
      "\n",
      "           0       0.94      0.99      0.96     10054\n",
      "           1       0.70      0.36      0.48       908\n",
      "\n",
      "    accuracy                           0.93     10962\n",
      "   macro avg       0.82      0.67      0.72     10962\n",
      "weighted avg       0.92      0.93      0.92     10962\n",
      "\n"
     ]
    }
   ],
   "source": [
    "print(classification_report(y_test, y_pred_th))"
   ]
  },
  {
   "cell_type": "code",
   "execution_count": 366,
   "metadata": {},
   "outputs": [
    {
     "name": "stdout",
     "output_type": "stream",
     "text": [
      "[[9916  138]\n",
      " [ 582  326]]\n"
     ]
    }
   ],
   "source": [
    "print(confusion_matrix(y_test, y_pred_th))"
   ]
  },
  {
   "cell_type": "code",
   "execution_count": 388,
   "metadata": {},
   "outputs": [
    {
     "data": {
      "text/plain": [
       "'ssas'"
      ]
     },
     "execution_count": 388,
     "metadata": {},
     "output_type": "execute_result"
    }
   ],
   "source": [
    "a = 'as'\n",
    "'ss' + a"
   ]
  },
  {
   "cell_type": "code",
   "execution_count": null,
   "metadata": {},
   "outputs": [],
   "source": []
  }
 ],
 "metadata": {
  "kernelspec": {
   "display_name": "Python 3",
   "language": "python",
   "name": "python3"
  },
  "language_info": {
   "codemirror_mode": {
    "name": "ipython",
    "version": 3
   },
   "file_extension": ".py",
   "mimetype": "text/x-python",
   "name": "python",
   "nbconvert_exporter": "python",
   "pygments_lexer": "ipython3",
   "version": "3.8.3"
  }
 },
 "nbformat": 4,
 "nbformat_minor": 4
}
